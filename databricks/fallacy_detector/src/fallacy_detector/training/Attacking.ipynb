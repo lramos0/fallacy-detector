{
 "cells": [
  {
   "cell_type": "code",
   "execution_count": 1,
   "id": "20154325-8769-41d3-a0d8-154a90aadf76",
   "metadata": {},
   "outputs": [],
   "source": [
    "import pandas as pd\n",
    "from sklearn.model_selection import StratifiedKFold, cross_val_score\n",
    "from sklearn.feature_extraction.text import TfidfVectorizer\n",
    "from sklearn.ensemble import RandomForestClassifier\n",
    "from sklearn.metrics import classification_report, confusion_matrix\n",
    "import numpy as np\n",
    "import joblib"
   ]
  },
  {
   "cell_type": "code",
   "execution_count": 2,
   "id": "8fd79e2d-f7cc-4949-b5e0-408314425bda",
   "metadata": {},
   "outputs": [],
   "source": [
    "# Load dataset\n",
    "df = pd.read_csv(\"Attacking.csv\")"
   ]
  },
  {
   "cell_type": "code",
   "execution_count": 3,
   "id": "8ef26371-991f-444a-a86c-25d56aa849d9",
   "metadata": {},
   "outputs": [],
   "source": [
    "# Drop missing entries\n",
    "df.dropna(subset=[\"text\", \"label\"], inplace=True)"
   ]
  },
  {
   "cell_type": "code",
   "execution_count": 4,
   "id": "1e236573-30a1-4234-a1e6-abf0c339802e",
   "metadata": {},
   "outputs": [],
   "source": [
    "# Features and labels\n",
    "X = df[\"text\"]\n",
    "y = df[\"label\"]"
   ]
  },
  {
   "cell_type": "code",
   "execution_count": 5,
   "id": "6a9fe8ae-f450-43d8-aae8-6e49e9eb26c3",
   "metadata": {},
   "outputs": [],
   "source": [
    "# TF-IDF vectorization\n",
    "vectorizer = TfidfVectorizer(ngram_range=(1, 2), max_features=5000)\n",
    "X_tfidf = vectorizer.fit_transform(X)\n",
    "\n",
    "# Define model\n",
    "rf_model = RandomForestClassifier(n_estimators=100, random_state=42)"
   ]
  },
  {
   "cell_type": "code",
   "execution_count": 6,
   "id": "ae9357e3-7615-4f77-bc7c-6620d1d3c0e4",
   "metadata": {},
   "outputs": [],
   "source": [
    "# Cross-validation setup\n",
    "cv = StratifiedKFold(n_splits=5, shuffle=True, random_state=42)\n",
    "scores = cross_val_score(rf_model, X_tfidf, y, cv=cv, scoring='f1')"
   ]
  },
  {
   "cell_type": "code",
   "execution_count": 7,
   "id": "329b29ca-1ce7-4ae7-a1ed-5d7d064e162c",
   "metadata": {},
   "outputs": [
    {
     "name": "stdout",
     "output_type": "stream",
     "text": [
      "Cross-Validation F1 Scores: [0.90909091 1.         0.90909091 0.90909091 1.        ]\n",
      "Average F1 Score: 0.9454545454545455\n"
     ]
    }
   ],
   "source": [
    "# Output results\n",
    "print(\"Cross-Validation F1 Scores:\", scores)\n",
    "print(\"Average F1 Score:\", np.mean(scores))"
   ]
  },
  {
   "cell_type": "code",
   "execution_count": 8,
   "id": "b1e4cff8-9cc7-4db5-9a3b-fde1001d10ae",
   "metadata": {},
   "outputs": [
    {
     "data": {
      "text/plain": [
       "['tfidf_vectorizer_attacking.pkl']"
      ]
     },
     "execution_count": 8,
     "metadata": {},
     "output_type": "execute_result"
    }
   ],
   "source": [
    "# Train on full data and save model\n",
    "rf_model.fit(X_tfidf, y)\n",
    "joblib.dump(rf_model, \"rf_attacking_model.pkl\")\n",
    "joblib.dump(vectorizer, \"tfidf_vectorizer_attacking.pkl\")"
   ]
  },
  {
   "cell_type": "code",
   "execution_count": null,
   "id": "078c904e-1fb2-4e4e-8816-424d08e8e0e8",
   "metadata": {},
   "outputs": [],
   "source": []
  }
 ],
 "metadata": {
  "kernelspec": {
   "display_name": "Python 3 (ipykernel)",
   "language": "python",
   "name": "python3"
  },
  "language_info": {
   "codemirror_mode": {
    "name": "ipython",
    "version": 3
   },
   "file_extension": ".py",
   "mimetype": "text/x-python",
   "name": "python",
   "nbconvert_exporter": "python",
   "pygments_lexer": "ipython3",
   "version": "3.11.9"
  }
 },
 "nbformat": 4,
 "nbformat_minor": 5
}
