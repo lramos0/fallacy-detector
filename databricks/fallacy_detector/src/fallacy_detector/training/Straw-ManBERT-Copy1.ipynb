{
 "cells": [
  {
   "cell_type": "code",
   "execution_count": 1,
   "id": "e91aef2d-2b41-4db4-bf0e-57742e3bf952",
   "metadata": {},
   "outputs": [
    {
     "name": "stderr",
     "output_type": "stream",
     "text": [
      "Some weights of BertForSequenceClassification were not initialized from the model checkpoint at bert-base-uncased and are newly initialized: ['classifier.bias', 'classifier.weight']\n",
      "You should probably TRAIN this model on a down-stream task to be able to use it for predictions and inference.\n"
     ]
    },
    {
     "name": "stdout",
     "output_type": "stream",
     "text": [
      "Epoch 1/3\n",
      "Epoch 2/3\n",
      "Epoch 3/3\n",
      "Label mapping: {'healthy_argument': 0, 'non_argument': 1, 'straw_man': 2}\n",
      "                  precision    recall  f1-score   support\n",
      "\n",
      "healthy_argument       1.00      1.00      1.00        31\n",
      "    non_argument       1.00      1.00      1.00        31\n",
      "       straw_man       1.00      1.00      1.00        47\n",
      "\n",
      "        accuracy                           1.00       109\n",
      "       macro avg       1.00      1.00      1.00       109\n",
      "    weighted avg       1.00      1.00      1.00       109\n",
      "\n"
     ]
    }
   ],
   "source": [
    "import pandas as pd\n",
    "import torch\n",
    "from transformers import BertTokenizer, BertForSequenceClassification\n",
    "from torch.utils.data import DataLoader, TensorDataset\n",
    "from sklearn.model_selection import train_test_split\n",
    "from sklearn.preprocessing import LabelEncoder\n",
    "from sklearn.metrics import classification_report\n",
    "\n",
    "# Step 1: Load the Straw Man dataset\n",
    "df = pd.read_csv(\"straw_man_fallacy_dataset.csv\")  # Update path if needed\n",
    "texts = df[\"text\"].tolist()\n",
    "labels_raw = df[\"label\"].tolist()\n",
    "\n",
    "# Step 2: Encode string labels to numeric\n",
    "label_encoder = LabelEncoder()\n",
    "labels = label_encoder.fit_transform(labels_raw)  # e.g., {'healthy_argument': 0, 'non_argument': 1, 'straw_man': 2}\n",
    "\n",
    "# Step 3: Tokenize with BERT tokenizer\n",
    "tokenizer = BertTokenizer.from_pretrained(\"bert-base-uncased\")\n",
    "encodings = tokenizer(texts, truncation=True, padding=True, return_tensors=\"pt\")\n",
    "\n",
    "input_ids = encodings[\"input_ids\"]\n",
    "attention_mask = encodings[\"attention_mask\"]\n",
    "labels_tensor = torch.tensor(labels)\n",
    "\n",
    "# Step 4: Prepare dataset and loaders\n",
    "dataset = TensorDataset(input_ids, attention_mask, labels_tensor)\n",
    "train_data, test_data = train_test_split(dataset, test_size=0.2, random_state=42)\n",
    "train_loader = DataLoader(train_data, batch_size=8, shuffle=True)\n",
    "test_loader = DataLoader(test_data, batch_size=8)\n",
    "\n",
    "# Step 5: Load BERT model\n",
    "num_labels = len(set(labels))  # should be 3\n",
    "model = BertForSequenceClassification.from_pretrained(\"bert-base-uncased\", num_labels=num_labels)\n",
    "optimizer = torch.optim.AdamW(model.parameters(), lr=2e-5)\n",
    "\n",
    "# Step 6: Train the model\n",
    "model.train()\n",
    "for epoch in range(3):\n",
    "    print(f\"Epoch {epoch+1}/3\")\n",
    "    for batch in train_loader:\n",
    "        b_input_ids, b_input_mask, b_labels = batch\n",
    "        outputs = model(b_input_ids, attention_mask=b_input_mask, labels=b_labels)\n",
    "        loss = outputs.loss\n",
    "        loss.backward()\n",
    "        optimizer.step()\n",
    "        optimizer.zero_grad()\n",
    "\n",
    "# Step 7: Evaluate the model\n",
    "model.eval()\n",
    "predictions, true_labels = [], []\n",
    "\n",
    "with torch.no_grad():\n",
    "    for batch in test_loader:\n",
    "        b_input_ids, b_input_mask, b_labels = batch\n",
    "        outputs = model(b_input_ids, attention_mask=b_input_mask)\n",
    "        logits = outputs.logits\n",
    "        preds = torch.argmax(logits, dim=1)\n",
    "        predictions.extend(preds.tolist())\n",
    "        true_labels.extend(b_labels.tolist())\n",
    "\n",
    "# Step 8: Generate classification report\n",
    "print(\"Label mapping:\", dict(zip(label_encoder.classes_, label_encoder.transform(label_encoder.classes_))))\n",
    "print(classification_report(true_labels, predictions, target_names=label_encoder.classes_))\n"
   ]
  },
  {
   "cell_type": "code",
   "execution_count": 2,
   "id": "d06bcd1b-5eec-42b8-8cc7-889cf242d7e9",
   "metadata": {},
   "outputs": [
    {
     "name": "stdout",
     "output_type": "stream",
     "text": [
      "straw_man\n"
     ]
    }
   ],
   "source": [
    "def predict_strawman(text):\n",
    "    encoding = tokenizer(text, return_tensors='pt', truncation=True, padding=True)\n",
    "    input_ids = encoding[\"input_ids\"]\n",
    "    attention_mask = encoding[\"attention_mask\"]\n",
    "\n",
    "    model.eval()\n",
    "    with torch.no_grad():\n",
    "        outputs = model(input_ids, attention_mask=attention_mask)\n",
    "        logits = outputs.logits\n",
    "        prediction = torch.argmax(logits, dim=-1).item()\n",
    "\n",
    "    return label_encoder.inverse_transform([prediction])[0]\n",
    "\n",
    "# Example usage\n",
    "print(predict_strawman(\"You think we should relax the school dress code? So you’re fine with students showing up in pajamas!\"))\n"
   ]
  },
  {
   "cell_type": "code",
   "execution_count": null,
   "id": "b25be021-f7d7-47eb-8113-e650b0860c09",
   "metadata": {},
   "outputs": [],
   "source": []
  }
 ],
 "metadata": {
  "kernelspec": {
   "display_name": "Python 3 (ipykernel)",
   "language": "python",
   "name": "python3"
  },
  "language_info": {
   "codemirror_mode": {
    "name": "ipython",
    "version": 3
   },
   "file_extension": ".py",
   "mimetype": "text/x-python",
   "name": "python",
   "nbconvert_exporter": "python",
   "pygments_lexer": "ipython3",
   "version": "3.11.9"
  }
 },
 "nbformat": 4,
 "nbformat_minor": 5
}
