{
 "cells": [
  {
   "cell_type": "code",
   "execution_count": 1,
   "id": "610f37ca-845d-493a-ad94-2753df5736b5",
   "metadata": {},
   "outputs": [
    {
     "name": "stdout",
     "output_type": "stream",
     "text": [
      "Label mapping: {'healthy_argument': 0, 'non_argument': 1, 'straw_man': 2}\n",
      "                  precision    recall  f1-score   support\n",
      "\n",
      "healthy_argument       1.00      0.95      0.97        20\n",
      "    non_argument       0.93      1.00      0.97        14\n",
      "       straw_man       1.00      1.00      1.00        38\n",
      "\n",
      "        accuracy                           0.99        72\n",
      "       macro avg       0.98      0.98      0.98        72\n",
      "    weighted avg       0.99      0.99      0.99        72\n",
      "\n"
     ]
    }
   ],
   "source": [
    "import pandas as pd\n",
    "from sklearn.feature_extraction.text import TfidfVectorizer\n",
    "from sklearn.tree import DecisionTreeClassifier\n",
    "from sklearn.model_selection import train_test_split\n",
    "from sklearn.metrics import classification_report\n",
    "from sklearn.preprocessing import LabelEncoder\n",
    "\n",
    "# Step 1: Load dataset\n",
    "df = pd.read_csv(\"straw_man_fallacy_dataset1.csv\")\n",
    "texts = df[\"text\"].tolist()\n",
    "labels_raw = df[\"label\"].tolist()\n",
    "\n",
    "# Step 2: Encode string labels to numeric\n",
    "label_encoder = LabelEncoder()\n",
    "labels = label_encoder.fit_transform(labels_raw)\n",
    "class_names = label_encoder.classes_\n",
    "all_encoded_labels = list(label_encoder.transform(class_names))\n",
    "\n",
    "# Step 3: TF-IDF Vectorization\n",
    "vectorizer = TfidfVectorizer(max_features=1000, ngram_range=(1, 2))\n",
    "X = vectorizer.fit_transform(texts)\n",
    "\n",
    "# Step 4: Train/Test Split\n",
    "X_train, X_test, y_train, y_test = train_test_split(\n",
    "    X, labels, test_size=0.3, random_state=42, stratify=labels\n",
    ")\n",
    "\n",
    "# Step 5: Train Decision Tree Classifier\n",
    "clf = DecisionTreeClassifier(max_depth=6, random_state=42)\n",
    "clf.fit(X_train, y_train)\n",
    "\n",
    "# Step 6: Predict & Evaluate\n",
    "y_pred = clf.predict(X_test)\n",
    "\n",
    "print(\"Label mapping:\", dict(zip(class_names, all_encoded_labels)))\n",
    "print(classification_report(y_test, y_pred, labels=all_encoded_labels, target_names=class_names))\n"
   ]
  },
  {
   "cell_type": "code",
   "execution_count": 2,
   "id": "debd9cb6-0acc-4c2c-a1f6-5e0522c13f22",
   "metadata": {},
   "outputs": [
    {
     "name": "stdout",
     "output_type": "stream",
     "text": [
      "straw_man\n"
     ]
    }
   ],
   "source": [
    "def predict_fallacy(text):\n",
    "    X_input = vectorizer.transform([text])\n",
    "    pred = clf.predict(X_input)\n",
    "    return label_encoder.inverse_transform(pred)[0]\n",
    "\n",
    "# Example\n",
    "print(predict_fallacy(\"You want cleaner air? So you want to ban all cars.\"))\n"
   ]
  },
  {
   "cell_type": "code",
   "execution_count": null,
   "id": "6a9517f5-2cd9-4e54-b517-3af57d10a46e",
   "metadata": {},
   "outputs": [],
   "source": []
  }
 ],
 "metadata": {
  "kernelspec": {
   "display_name": "Python 3 (ipykernel)",
   "language": "python",
   "name": "python3"
  },
  "language_info": {
   "codemirror_mode": {
    "name": "ipython",
    "version": 3
   },
   "file_extension": ".py",
   "mimetype": "text/x-python",
   "name": "python",
   "nbconvert_exporter": "python",
   "pygments_lexer": "ipython3",
   "version": "3.11.9"
  }
 },
 "nbformat": 4,
 "nbformat_minor": 5
}
