{
 "cells": [
  {
   "cell_type": "code",
   "execution_count": 22,
   "id": "a48fde90-9d09-4b79-97f3-31260faa4119",
   "metadata": {},
   "outputs": [
    {
     "name": "stdout",
     "output_type": "stream",
     "text": [
      "Requirement already satisfied: pandas in /opt/conda/lib/python3.11/site-packages (2.2.3)\n",
      "Requirement already satisfied: numpy>=1.23.2 in /opt/conda/lib/python3.11/site-packages (from pandas) (2.2.3)\n",
      "Requirement already satisfied: python-dateutil>=2.8.2 in /opt/conda/lib/python3.11/site-packages (from pandas) (2.9.0)\n",
      "Requirement already satisfied: pytz>=2020.1 in /opt/conda/lib/python3.11/site-packages (from pandas) (2024.1)\n",
      "Requirement already satisfied: tzdata>=2022.7 in /opt/conda/lib/python3.11/site-packages (from pandas) (2025.2)\n",
      "Requirement already satisfied: six>=1.5 in /opt/conda/lib/python3.11/site-packages (from python-dateutil>=2.8.2->pandas) (1.16.0)\n",
      "Requirement already satisfied: scikit-learn in /opt/conda/lib/python3.11/site-packages (1.6.1)\n",
      "Requirement already satisfied: numpy>=1.19.5 in /opt/conda/lib/python3.11/site-packages (from scikit-learn) (2.2.3)\n",
      "Requirement already satisfied: scipy>=1.6.0 in /opt/conda/lib/python3.11/site-packages (from scikit-learn) (1.15.2)\n",
      "Requirement already satisfied: joblib>=1.2.0 in /opt/conda/lib/python3.11/site-packages (from scikit-learn) (1.4.2)\n",
      "Requirement already satisfied: threadpoolctl>=3.1.0 in /opt/conda/lib/python3.11/site-packages (from scikit-learn) (3.6.0)\n"
     ]
    }
   ],
   "source": [
    "!pip install pandas\n",
    "!pip install scikit-learn"
   ]
  },
  {
   "cell_type": "code",
   "execution_count": 23,
   "id": "1d79e518-fa73-4df4-865d-3830e1cd731d",
   "metadata": {},
   "outputs": [],
   "source": [
    "import json\n",
    "import pandas as pd\n",
    "from sklearn.model_selection import train_test_split\n",
    "from sklearn.feature_extraction.text import TfidfVectorizer\n",
    "from sklearn.tree import DecisionTreeClassifier\n",
    "from sklearn.metrics import classification_report\n",
    "\n",
    "# Step 1: Load data from JSON\n",
    "with open(\"./Data/synthetic_fallacy_dataset.json\", \"r\") as f:\n",
    "    data = json.load(f)"
   ]
  },
  {
   "cell_type": "code",
   "execution_count": 8,
   "id": "c42b993c-19e6-4b11-9041-c3e6b973a937",
   "metadata": {},
   "outputs": [
    {
     "name": "stdout",
     "output_type": "stream",
     "text": [
      "\n",
      "Classification Report:\n",
      "\n",
      "                   precision    recall  f1-score   support\n",
      "\n",
      "       ad_hominem       1.00      1.00      1.00        16\n",
      "appeal_to_emotion       1.00      1.00      1.00        13\n",
      "      false_cause       1.00      1.00      1.00        20\n",
      "   slippery_slope       1.00      1.00      1.00       110\n",
      "        straw_man       1.00      1.00      1.00        21\n",
      "\n",
      "         accuracy                           1.00       180\n",
      "        macro avg       1.00      1.00      1.00       180\n",
      "     weighted avg       1.00      1.00      1.00       180\n",
      "\n",
      "\n",
      "Prediction for sample: slippery_slope\n"
     ]
    }
   ],
   "source": [
    "# Step 2: Convert to DataFrame\n",
    "df = pd.DataFrame(data)\n",
    "X = df[\"text\"]\n",
    "y = df[\"label\"]\n",
    "\n",
    "# Step 3: Split into train and test\n",
    "X_train, X_test, y_train, y_test = train_test_split(X, y, test_size=0.3, random_state=42)\n",
    "\n",
    "# Step 4: Vectorize the text using TF-IDF\n",
    "vectorizer = TfidfVectorizer(ngram_range=(1,2), stop_words='english', max_features=5000)\n",
    "X_train_tfidf = vectorizer.fit_transform(X_train)\n",
    "X_test_tfidf = vectorizer.transform(X_test)\n",
    "\n",
    "# Step 5: Train Decision Tree classifier\n",
    "model = DecisionTreeClassifier(max_depth=10, random_state=42)\n",
    "model.fit(X_train_tfidf, y_train)\n",
    "\n",
    "# Step 6: Evaluate model\n",
    "y_pred = model.predict(X_test_tfidf)\n",
    "print(\"\\nClassification Report:\\n\")\n",
    "print(classification_report(y_test, y_pred))\n",
    "\n",
    "# Step 7: Prediction function\n",
    "def predict_fallacy(text):\n",
    "    vec = vectorizer.transform([text])\n",
    "    prediction = model.predict(vec)[0]\n",
    "    return prediction\n",
    "\n",
    "# Example usage\n",
    "sample = \"If we start allowing students to skip classes, soon they won't attend school at all.\"\n",
    "print(f\"\\nPrediction for sample: {predict_fallacy(sample)}\")"
   ]
  },
  {
   "cell_type": "code",
   "execution_count": 24,
   "id": "f140be9a-0a84-41a9-8e9b-4fa4812c6163",
   "metadata": {},
   "outputs": [],
   "source": [
    "# === Load Dataset ===\n",
    "def load_data(json_path):\n",
    "    with open(json_path, \"r\") as f:\n",
    "        data = json.load(f)\n",
    "    df = pd.DataFrame(data)\n",
    "    return df\n",
    "\n"
   ]
  },
  {
   "cell_type": "code",
   "execution_count": 25,
   "id": "0f0e5da7-4fdb-4027-8c26-4c34cfda01d5",
   "metadata": {},
   "outputs": [],
   "source": [
    "# === Vectorize Text ===\n",
    "def vectorize_text(text_series, max_features=5000):\n",
    "    vectorizer = TfidfVectorizer(ngram_range=(1,2), stop_words='english', max_features=max_features)\n",
    "    tfidf = vectorizer.fit_transform(text_series)\n",
    "    return tfidf, vectorizer"
   ]
  },
  {
   "cell_type": "code",
   "execution_count": 26,
   "id": "dc473ed4-4624-4ab4-855b-1139eeb85549",
   "metadata": {},
   "outputs": [],
   "source": [
    "# === Train Model ===\n",
    "def train_decision_tree(X_train, y_train, max_depth=10):\n",
    "    model = DecisionTreeClassifier(max_depth=max_depth, random_state=42)\n",
    "    model.fit(X_train, y_train)\n",
    "    return model\n",
    "\n",
    "# === Evaluate Model ===\n",
    "def evaluate_model(model, X_test, y_test):\n",
    "    y_pred = model.predict(X_test)\n",
    "    print(\"=== Classification Report ===\")\n",
    "    print(classification_report(y_test, y_pred))"
   ]
  },
  {
   "cell_type": "code",
   "execution_count": 27,
   "id": "ffe7a01d-764d-406d-8596-a9863eae89b7",
   "metadata": {},
   "outputs": [],
   "source": [
    "# === Predict Single Sample ===\n",
    "def predict_fallacy(model, vectorizer, text):\n",
    "    vec = vectorizer.transform([text])\n",
    "    return model.predict(vec)[0]"
   ]
  },
  {
   "cell_type": "code",
   "execution_count": 28,
   "id": "417714c9-e4e9-4acb-a8ab-cc10120aeb56",
   "metadata": {},
   "outputs": [
    {
     "name": "stdout",
     "output_type": "stream",
     "text": [
      "=== Classification Report ===\n",
      "                   precision    recall  f1-score   support\n",
      "\n",
      "       ad_hominem       1.00      1.00      1.00        11\n",
      "appeal_to_emotion       1.00      1.00      1.00         9\n",
      "      false_cause       1.00      1.00      1.00        13\n",
      "   slippery_slope       1.00      1.00      1.00        73\n",
      "        straw_man       1.00      1.00      1.00        14\n",
      "\n",
      "         accuracy                           1.00       120\n",
      "        macro avg       1.00      1.00      1.00       120\n",
      "     weighted avg       1.00      1.00      1.00       120\n",
      "\n"
     ]
    }
   ],
   "source": [
    "# === Pipeline ===\n",
    "data_path = \"./Data/synthetic_fallacy_dataset.json\"\n",
    "df = load_data(data_path)\n",
    "X = df[\"text\"]\n",
    "y = df[\"label\"]\n",
    "\n",
    "X_train_text, X_test_text, y_train, y_test = train_test_split(X, y, test_size=0.2, random_state=42)\n",
    "X_train_vec, vectorizer = vectorize_text(X_train_text)\n",
    "X_test_vec = vectorizer.transform(X_test_text)\n",
    "\n",
    "model = train_decision_tree(X_train_vec, y_train)\n",
    "evaluate_model(model, X_test_vec, y_test)"
   ]
  },
  {
   "cell_type": "code",
   "execution_count": 34,
   "id": "5676802e-2e96-4a3b-b51b-a57ef068e25e",
   "metadata": {},
   "outputs": [
    {
     "name": "stdout",
     "output_type": "stream",
     "text": [
      "Prediction for sample: slippery_slope\n"
     ]
    }
   ],
   "source": [
    "# === Example Usage ===\n",
    "sample_text = \"I started wearing my lucky socks, and then my team won. Therefore, my lucky socks caused the win\"\n",
    "prediction = predict_fallacy(model, vectorizer, sample_text)\n",
    "print(f\"Prediction for sample: {prediction}\")"
   ]
  },
  {
   "cell_type": "code",
   "execution_count": 31,
   "id": "85077703-2c26-44b1-ae27-91014e263f5e",
   "metadata": {},
   "outputs": [
    {
     "name": "stdout",
     "output_type": "stream",
     "text": [
      "=== External Test Set Evaluation ===\n",
      "                   precision    recall  f1-score   support\n",
      "\n",
      "       ad_hominem       0.00      0.00      0.00        10\n",
      "appeal_to_emotion       1.00      0.11      0.20         9\n",
      "      false_cause       0.00      0.00      0.00        10\n",
      "   slippery_slope       0.22      1.00      0.37        11\n",
      "        straw_man       0.00      0.00      0.00        10\n",
      "\n",
      "         accuracy                           0.24        50\n",
      "        macro avg       0.24      0.22      0.11        50\n",
      "     weighted avg       0.23      0.24      0.12        50\n",
      "\n"
     ]
    },
    {
     "name": "stderr",
     "output_type": "stream",
     "text": [
      "/opt/conda/lib/python3.11/site-packages/sklearn/metrics/_classification.py:1565: UndefinedMetricWarning: Precision is ill-defined and being set to 0.0 in labels with no predicted samples. Use `zero_division` parameter to control this behavior.\n",
      "  _warn_prf(average, modifier, f\"{metric.capitalize()} is\", len(result))\n",
      "/opt/conda/lib/python3.11/site-packages/sklearn/metrics/_classification.py:1565: UndefinedMetricWarning: Precision is ill-defined and being set to 0.0 in labels with no predicted samples. Use `zero_division` parameter to control this behavior.\n",
      "  _warn_prf(average, modifier, f\"{metric.capitalize()} is\", len(result))\n",
      "/opt/conda/lib/python3.11/site-packages/sklearn/metrics/_classification.py:1565: UndefinedMetricWarning: Precision is ill-defined and being set to 0.0 in labels with no predicted samples. Use `zero_division` parameter to control this behavior.\n",
      "  _warn_prf(average, modifier, f\"{metric.capitalize()} is\", len(result))\n"
     ]
    }
   ],
   "source": [
    "import json\n",
    "import pandas as pd\n",
    "from sklearn.metrics import classification_report\n",
    "\n",
    "# === Load External Test Set ===\n",
    "def load_test_data(json_path):\n",
    "    with open(json_path, \"r\") as f:\n",
    "        test_data = json.load(f)\n",
    "    df = pd.DataFrame(test_data)\n",
    "    return df[\"text\"], df[\"label\"]\n",
    "\n",
    "# === Evaluate on Test Set ===\n",
    "def evaluate_external_test(model, vectorizer, test_json_path):\n",
    "    X_test_text, y_test = load_test_data(test_json_path)\n",
    "    X_test_vec = vectorizer.transform(X_test_text)\n",
    "    y_pred = model.predict(X_test_vec)\n",
    "    \n",
    "    print(\"=== External Test Set Evaluation ===\")\n",
    "    \n",
    "    print(classification_report(y_test, y_pred))\n",
    "\n",
    "# === Run Evaluation ===\n",
    "test_json_path = \"./Data/fallacy_test_set.json\"\n",
    "evaluate_external_test(model, vectorizer, test_json_path)\n"
   ]
  },
  {
   "cell_type": "code",
   "execution_count": null,
   "id": "709af542-cd25-40cf-934a-1f3f13c82768",
   "metadata": {},
   "outputs": [],
   "source": []
  }
 ],
 "metadata": {
  "kernelspec": {
   "display_name": "Python Conda Env",
   "language": "python",
   "name": "my_env"
  },
  "language_info": {
   "codemirror_mode": {
    "name": "ipython",
    "version": 3
   },
   "file_extension": ".py",
   "mimetype": "text/x-python",
   "name": "python",
   "nbconvert_exporter": "python",
   "pygments_lexer": "ipython3",
   "version": "3.11.9"
  }
 },
 "nbformat": 4,
 "nbformat_minor": 5
}
