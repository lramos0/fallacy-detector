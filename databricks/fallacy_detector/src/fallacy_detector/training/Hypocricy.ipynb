{
 "cells": [
  {
   "cell_type": "code",
   "execution_count": 20,
   "id": "8fcd8081-1e62-4c95-8e73-d4fad4b4721a",
   "metadata": {},
   "outputs": [],
   "source": [
    "import pandas as pd\n",
    "import numpy as np\n",
    "from sklearn.model_selection import train_test_split\n",
    "from sklearn.model_selection import StratifiedKFold, cross_val_score\n",
    "from sklearn.feature_extraction.text import TfidfVectorizer\n",
    "from sklearn.ensemble import RandomForestClassifier\n",
    "from sklearn.metrics import classification_report, confusion_matrix\n",
    "import joblib"
   ]
  },
  {
   "cell_type": "code",
   "execution_count": 6,
   "id": "ab6414b2-c37e-449f-bfdc-24fa94262d85",
   "metadata": {},
   "outputs": [],
   "source": [
    "# Load dataset\n",
    "df = pd.read_csv(\"Hypocricy.csv\")"
   ]
  },
  {
   "cell_type": "code",
   "execution_count": 7,
   "id": "3bb55687-e56e-4459-b25e-c18df50564b7",
   "metadata": {},
   "outputs": [],
   "source": [
    "# Check for missing values\n",
    "df.dropna(subset=[\"text\", \"label\"], inplace=True)"
   ]
  },
  {
   "cell_type": "code",
   "execution_count": 8,
   "id": "f30ffdef-a95a-4556-a14b-c21b5574ffde",
   "metadata": {},
   "outputs": [],
   "source": [
    "# Split features and target\n",
    "X = df[\"text\"]\n",
    "y = df[\"label\"]"
   ]
  },
  {
   "cell_type": "code",
   "execution_count": 9,
   "id": "4ec22082-7fb6-4183-b915-cf503c934caf",
   "metadata": {},
   "outputs": [],
   "source": [
    "# Convert text to TF-IDF vectors\n",
    "vectorizer = TfidfVectorizer(ngram_range=(1, 2), max_features=5000)\n",
    "X_tfidf = vectorizer.fit_transform(X)"
   ]
  },
  {
   "cell_type": "code",
   "execution_count": 15,
   "id": "80a81c1d-efdd-4c8e-a8d6-9a4ba2f338b2",
   "metadata": {},
   "outputs": [],
   "source": [
    "# Define Random Forest model\n",
    "rf_model = RandomForestClassifier(n_estimators=100, random_state=42)"
   ]
  },
  {
   "cell_type": "code",
   "execution_count": 18,
   "id": "5b86966d-58a2-413b-9d0d-792154af244e",
   "metadata": {},
   "outputs": [],
   "source": [
    "# Perform stratified 5-fold cross-validation\n",
    "cv = StratifiedKFold(n_splits=5, shuffle=True, random_state=42)\n",
    "scores = cross_val_score(rf_model, X_tfidf, y, cv=cv, scoring='f1')"
   ]
  },
  {
   "cell_type": "code",
   "execution_count": 21,
   "id": "0a81d710-24f9-4dd4-b888-428c8215a085",
   "metadata": {},
   "outputs": [
    {
     "name": "stdout",
     "output_type": "stream",
     "text": [
      "Cross-Validation F1 Scores: [1. 1. 1. 1. 1.]\n",
      "Average F1 Score: 1.0\n"
     ]
    }
   ],
   "source": [
    "print(\"Cross-Validation F1 Scores:\", scores)\n",
    "print(\"Average F1 Score:\", np.mean(scores))"
   ]
  },
  {
   "cell_type": "code",
   "execution_count": 22,
   "id": "495675f9-6053-46f0-abf8-f0b1b4911986",
   "metadata": {},
   "outputs": [
    {
     "data": {
      "text/plain": [
       "['tfidf_vectorizer_cv.pkl']"
      ]
     },
     "execution_count": 22,
     "metadata": {},
     "output_type": "execute_result"
    }
   ],
   "source": [
    "rf_model.fit(X_tfidf, y)\n",
    "joblib.dump(rf_model, \"rf_hypocrisy_model_cv.pkl\")\n",
    "joblib.dump(vectorizer, \"tfidf_vectorizer_cv.pkl\")"
   ]
  }
 ],
 "metadata": {
  "kernelspec": {
   "display_name": "Python 3 (ipykernel)",
   "language": "python",
   "name": "python3"
  },
  "language_info": {
   "codemirror_mode": {
    "name": "ipython",
    "version": 3
   },
   "file_extension": ".py",
   "mimetype": "text/x-python",
   "name": "python",
   "nbconvert_exporter": "python",
   "pygments_lexer": "ipython3",
   "version": "3.11.9"
  }
 },
 "nbformat": 4,
 "nbformat_minor": 5
}
