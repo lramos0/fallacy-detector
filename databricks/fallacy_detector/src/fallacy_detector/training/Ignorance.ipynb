{
 "cells": [
  {
   "cell_type": "code",
   "execution_count": 1,
   "id": "cd0a7126-4a39-4f43-b569-1d823e39e491",
   "metadata": {},
   "outputs": [],
   "source": [
    "import pandas as pd\n",
    "from sklearn.model_selection import StratifiedKFold, cross_val_score\n",
    "from sklearn.feature_extraction.text import TfidfVectorizer\n",
    "from sklearn.ensemble import RandomForestClassifier\n",
    "from sklearn.metrics import classification_report, confusion_matrix\n",
    "import numpy as np\n",
    "import joblib"
   ]
  },
  {
   "cell_type": "code",
   "execution_count": 2,
   "id": "f10140cc-05ec-4d17-a357-6d3d16d6be6b",
   "metadata": {},
   "outputs": [],
   "source": [
    "# Load dataset\n",
    "df = pd.read_csv(\"Ignorance.csv\")\n",
    "\n",
    "# Drop missing values if any\n",
    "df.dropna(subset=[\"text\", \"label\"], inplace=True)"
   ]
  },
  {
   "cell_type": "code",
   "execution_count": 3,
   "id": "a5df3f64-a5ff-48bc-9568-8ac27ad5b57a",
   "metadata": {},
   "outputs": [],
   "source": [
    "# Extract features and labels\n",
    "X = df[\"text\"]\n",
    "y = df[\"label\"]"
   ]
  },
  {
   "cell_type": "code",
   "execution_count": 4,
   "id": "89a3360d-0b1e-4a16-9c09-3519ec1a5f4e",
   "metadata": {},
   "outputs": [],
   "source": [
    "# TF-IDF vectorization\n",
    "vectorizer = TfidfVectorizer(ngram_range=(1, 2), max_features=5000)\n",
    "X_tfidf = vectorizer.fit_transform(X)"
   ]
  },
  {
   "cell_type": "code",
   "execution_count": 5,
   "id": "ff425670-3cb7-4b8d-ba34-7c00f74ed3bc",
   "metadata": {},
   "outputs": [],
   "source": [
    "# Random Forest model\n",
    "rf_model = RandomForestClassifier(n_estimators=100, random_state=42)"
   ]
  },
  {
   "cell_type": "code",
   "execution_count": 6,
   "id": "1c752413-bdae-4672-b316-761a2fca3752",
   "metadata": {},
   "outputs": [],
   "source": [
    "# Cross-validation\n",
    "cv = StratifiedKFold(n_splits=5, shuffle=True, random_state=42)\n",
    "scores = cross_val_score(rf_model, X_tfidf, y, cv=cv, scoring='f1')"
   ]
  },
  {
   "cell_type": "code",
   "execution_count": 7,
   "id": "23f6685a-cf21-43f9-bcba-d892082a0d5f",
   "metadata": {},
   "outputs": [
    {
     "name": "stdout",
     "output_type": "stream",
     "text": [
      "Cross-Validation F1 Scores: [1.         0.90909091 0.90909091 1.         1.        ]\n",
      "Average F1 Score: 0.9636363636363636\n"
     ]
    }
   ],
   "source": [
    "# Results\n",
    "print(\"Cross-Validation F1 Scores:\", scores)\n",
    "print(\"Average F1 Score:\", np.mean(scores))"
   ]
  },
  {
   "cell_type": "code",
   "execution_count": 8,
   "id": "03f1415e-bcdd-4d5d-a0b5-40b3205bb154",
   "metadata": {},
   "outputs": [
    {
     "data": {
      "text/plain": [
       "['tfidf_vectorizer_ignorance.pkl']"
      ]
     },
     "execution_count": 8,
     "metadata": {},
     "output_type": "execute_result"
    }
   ],
   "source": [
    "# Fit on full dataset and save\n",
    "rf_model.fit(X_tfidf, y)\n",
    "joblib.dump(rf_model, \"rf_ignorance_model.pkl\")\n",
    "joblib.dump(vectorizer, \"tfidf_vectorizer_ignorance.pkl\")"
   ]
  },
  {
   "cell_type": "code",
   "execution_count": null,
   "id": "cd2e949f-138c-41da-8ed2-c485316b00a4",
   "metadata": {},
   "outputs": [],
   "source": []
  }
 ],
 "metadata": {
  "kernelspec": {
   "display_name": "Python 3 (ipykernel)",
   "language": "python",
   "name": "python3"
  },
  "language_info": {
   "codemirror_mode": {
    "name": "ipython",
    "version": 3
   },
   "file_extension": ".py",
   "mimetype": "text/x-python",
   "name": "python",
   "nbconvert_exporter": "python",
   "pygments_lexer": "ipython3",
   "version": "3.11.9"
  }
 },
 "nbformat": 4,
 "nbformat_minor": 5
}
