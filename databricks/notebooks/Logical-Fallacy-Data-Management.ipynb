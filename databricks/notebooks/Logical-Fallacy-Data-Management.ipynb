{
 "cells": [
  {
   "cell_type": "markdown",
   "metadata": {
    "application/vnd.databricks.v1+cell": {
     "cellMetadata": {
      "byteLimit": 2048000,
      "rowLimit": 10000
     },
     "inputWidgets": {},
     "nuid": "0c4fcf08-8a9d-436d-9316-ad66ed11928d",
     "showTitle": false,
     "tableResultSettingsMap": {},
     "title": ""
    }
   },
   "source": [
    "# database and table configs"
   ]
  },
  {
   "cell_type": "markdown",
   "metadata": {
    "application/vnd.databricks.v1+cell": {
     "cellMetadata": {
      "byteLimit": 2048000,
      "rowLimit": 10000
     },
     "inputWidgets": {},
     "nuid": "9aae3de2-4703-4a51-8b60-2ea0351e8522",
     "showTitle": false,
     "tableResultSettingsMap": {},
     "title": ""
    }
   },
   "source": [
    "## This cell creates a new table in database\n",
    "we need one for each fallacy"
   ]
  },
  {
   "cell_type": "code",
   "execution_count": 0,
   "metadata": {
    "application/vnd.databricks.v1+cell": {
     "cellMetadata": {
      "byteLimit": 2048000,
      "implicitDf": true,
      "rowLimit": 10000
     },
     "inputWidgets": {},
     "nuid": "4bba3dfa-8ddd-486f-91bb-055d578252b5",
     "showTitle": false,
     "tableResultSettingsMap": {},
     "title": ""
    }
   },
   "outputs": [],
   "source": [
    "%sql\n",
    "CREATE DATABASE IF NOT EXISTS workspace.logical_fallacy_data;"
   ]
  },
  {
   "cell_type": "code",
   "execution_count": 0,
   "metadata": {
    "application/vnd.databricks.v1+cell": {
     "cellMetadata": {
      "byteLimit": 2048000,
      "implicitDf": true,
      "rowLimit": 10000
     },
     "inputWidgets": {},
     "nuid": "2ffe3bd1-c3c4-4e23-94c9-138748e21029",
     "showTitle": false,
     "tableResultSettingsMap": {},
     "title": ""
    }
   },
   "outputs": [],
   "source": [
    "%sql\n",
    "CREATE TABLE IF NOT EXISTS logical_fallacy_data.red_herring (\n",
    "  text STRING,\n",
    "  label BOOLEAN\n",
    ");"
   ]
  },
  {
   "cell_type": "code",
   "execution_count": 0,
   "metadata": {
    "application/vnd.databricks.v1+cell": {
     "cellMetadata": {
      "byteLimit": 2048000,
      "implicitDf": true,
      "rowLimit": 10000
     },
     "inputWidgets": {},
     "nuid": "7906e96f-8603-4bbc-8121-302768b3d15e",
     "showTitle": false,
     "tableResultSettingsMap": {},
     "title": ""
    }
   },
   "outputs": [],
   "source": [
    "%sql\n",
    "CREATE TABLE IF NOT EXISTS logical_fallacy_data.straw_man (\n",
    "  text STRING,\n",
    "  label BOOLEAN\n",
    ");"
   ]
  },
  {
   "cell_type": "code",
   "execution_count": 0,
   "metadata": {
    "application/vnd.databricks.v1+cell": {
     "cellMetadata": {
      "byteLimit": 2048000,
      "implicitDf": true,
      "rowLimit": 10000
     },
     "inputWidgets": {},
     "nuid": "974b0deb-3208-4915-b222-0eeaebf2eaf4",
     "showTitle": false,
     "tableResultSettingsMap": {},
     "title": ""
    }
   },
   "outputs": [],
   "source": [
    "%sql\n",
    "CREATE TABLE IF NOT EXISTS logical_fallacy_data.slippery_slope (\n",
    "  text STRING,\n",
    "  label BOOLEAN\n",
    ");"
   ]
  },
  {
   "cell_type": "code",
   "execution_count": 0,
   "metadata": {
    "application/vnd.databricks.v1+cell": {
     "cellMetadata": {
      "byteLimit": 2048000,
      "implicitDf": true,
      "rowLimit": 10000
     },
     "inputWidgets": {},
     "nuid": "921aa105-76e9-4e43-8f96-bc5f30f48e19",
     "showTitle": false,
     "tableResultSettingsMap": {},
     "title": ""
    }
   },
   "outputs": [],
   "source": [
    "%sql\n",
    "CREATE TABLE IF NOT EXISTS logical_fallacy_data.hasty_generalization (\n",
    "  text STRING,\n",
    "  label BOOLEAN\n",
    ");"
   ]
  },
  {
   "cell_type": "code",
   "execution_count": 0,
   "metadata": {
    "application/vnd.databricks.v1+cell": {
     "cellMetadata": {
      "byteLimit": 2048000,
      "implicitDf": true,
      "rowLimit": 10000
     },
     "inputWidgets": {},
     "nuid": "f055360e-aef9-4763-a448-59b7f4e01076",
     "showTitle": false,
     "tableResultSettingsMap": {},
     "title": ""
    }
   },
   "outputs": [],
   "source": [
    "%sql\n",
    "CREATE TABLE IF NOT EXISTS logical_fallacy_data.attacking (\n",
    "  text STRING,\n",
    "  label BOOLEAN\n",
    ");"
   ]
  },
  {
   "cell_type": "code",
   "execution_count": 0,
   "metadata": {
    "application/vnd.databricks.v1+cell": {
     "cellMetadata": {
      "byteLimit": 2048000,
      "implicitDf": true,
      "rowLimit": 10000
     },
     "inputWidgets": {},
     "nuid": "3100a31e-8b5e-412b-8ad2-ddd0693f5b8b",
     "showTitle": false,
     "tableResultSettingsMap": {},
     "title": ""
    }
   },
   "outputs": [],
   "source": [
    "%sql\n",
    "CREATE TABLE IF NOT EXISTS logical_fallacy_data.ignorance (\n",
    "  text STRING,\n",
    "  label BOOLEAN\n",
    ");"
   ]
  },
  {
   "cell_type": "code",
   "execution_count": 0,
   "metadata": {
    "application/vnd.databricks.v1+cell": {
     "cellMetadata": {
      "byteLimit": 2048000,
      "implicitDf": true,
      "rowLimit": 10000
     },
     "inputWidgets": {},
     "nuid": "20b5aec9-6f00-4887-85dc-80970167a4b1",
     "showTitle": false,
     "tableResultSettingsMap": {},
     "title": ""
    }
   },
   "outputs": [],
   "source": [
    "%sql\n",
    "CREATE TABLE IF NOT EXISTS logical_fallacy_data.hypocrisy (\n",
    "  text STRING,\n",
    "  label BOOLEAN\n",
    ");"
   ]
  },
  {
   "cell_type": "code",
   "execution_count": 0,
   "metadata": {
    "application/vnd.databricks.v1+cell": {
     "cellMetadata": {
      "byteLimit": 2048000,
      "implicitDf": true,
      "rowLimit": 10000
     },
     "inputWidgets": {},
     "nuid": "68f5bb8a-5ebb-4678-8047-26f80d187da8",
     "showTitle": false,
     "tableResultSettingsMap": {},
     "title": ""
    }
   },
   "outputs": [],
   "source": [
    "%sql\n",
    "CREATE TABLE IF NOT EXISTS logical_fallacy_data.stacking_deck (\n",
    "  text STRING,\n",
    "  label BOOLEAN\n",
    ");"
   ]
  },
  {
   "cell_type": "code",
   "execution_count": 0,
   "metadata": {
    "application/vnd.databricks.v1+cell": {
     "cellMetadata": {
      "byteLimit": 2048000,
      "implicitDf": true,
      "rowLimit": 10000
     },
     "inputWidgets": {},
     "nuid": "b4bc0dce-6774-45c4-a0ef-6d486f9dd22f",
     "showTitle": false,
     "tableResultSettingsMap": {},
     "title": ""
    }
   },
   "outputs": [],
   "source": [
    "%sql\n",
    "CREATE TABLE IF NOT EXISTS logical_fallacy_data.ad_hominem (\n",
    "  text STRING,\n",
    "  label BOOLEAN\n",
    ");"
   ]
  },
  {
   "cell_type": "markdown",
   "metadata": {
    "application/vnd.databricks.v1+cell": {
     "cellMetadata": {
      "byteLimit": 2048000,
      "rowLimit": 10000
     },
     "inputWidgets": {},
     "nuid": "9fb96060-d393-4c01-bd59-1236a8a011c0",
     "showTitle": false,
     "tableResultSettingsMap": {},
     "title": ""
    }
   },
   "source": [
    "# Access"
   ]
  },
  {
   "cell_type": "code",
   "execution_count": 0,
   "metadata": {
    "application/vnd.databricks.v1+cell": {
     "cellMetadata": {
      "byteLimit": 2048000,
      "implicitDf": true,
      "rowLimit": 10000
     },
     "inputWidgets": {},
     "nuid": "38bcf049-c48f-4af0-affe-9bf231755e55",
     "showTitle": false,
     "tableResultSettingsMap": {},
     "title": ""
    }
   },
   "outputs": [],
   "source": [
    "%sql\n",
    "GRANT USE SCHEMA ON SCHEMA logical_fallacy_data TO `ryabumoto1655@sdsu.edu`;\n"
   ]
  },
  {
   "cell_type": "code",
   "execution_count": 0,
   "metadata": {
    "application/vnd.databricks.v1+cell": {
     "cellMetadata": {
      "byteLimit": 2048000,
      "implicitDf": true,
      "rowLimit": 10000
     },
     "inputWidgets": {},
     "nuid": "640e30b6-16d6-4dcf-a396-418c4b45ef6d",
     "showTitle": false,
     "tableResultSettingsMap": {},
     "title": ""
    }
   },
   "outputs": [],
   "source": [
    "%sql\n",
    "GRANT ALL PRIVILEGES ON TABLE logical_fallacy_data.red_herring TO `ryabumoto1655@sdsu.edu`;\n",
    "GRANT ALL PRIVILEGES ON TABLE logical_fallacy_data.straw_man TO `ryabumoto1655@sdsu.edu`;\n",
    "GRANT ALL PRIVILEGES ON TABLE logical_fallacy_data.hasty_generalization TO `ryabumoto1655@sdsu.edu`;\n",
    "GRANT ALL PRIVILEGES ON TABLE logical_fallacy_data.slippery_slope TO `ryabumoto1655@sdsu.edu`;\n",
    "GRANT ALL PRIVILEGES ON TABLE logical_fallacy_data.attacking TO `ryabumoto1655@sdsu.edu`;\n",
    "GRANT ALL PRIVILEGES ON TABLE logical_fallacy_data.ignorance TO `ryabumoto1655@sdsu.edu`;\n"
   ]
  },
  {
   "cell_type": "markdown",
   "metadata": {
    "application/vnd.databricks.v1+cell": {
     "cellMetadata": {
      "byteLimit": 2048000,
      "rowLimit": 10000
     },
     "inputWidgets": {},
     "nuid": "e1251738-a745-4fe5-b1ce-4cb6099e8672",
     "showTitle": false,
     "tableResultSettingsMap": {},
     "title": ""
    }
   },
   "source": [
    "# Populate Red-Herring Table"
   ]
  },
  {
   "cell_type": "code",
   "execution_count": 0,
   "metadata": {
    "application/vnd.databricks.v1+cell": {
     "cellMetadata": {
      "byteLimit": 2048000,
      "rowLimit": 10000
     },
     "inputWidgets": {},
     "nuid": "482114d9-e890-446f-af80-684de665900d",
     "showTitle": false,
     "tableResultSettingsMap": {},
     "title": ""
    }
   },
   "outputs": [],
   "source": [
    "red_herring_examples = [\n",
    "    \"We shouldn’t worry about climate change when there are so many people unemployed.\",\n",
    "    \"Why talk about school funding? Let’s focus on the real problem: declining family values.\",\n",
    "    \"I know I made a mistake at work, but think of all the good things I’ve done.\",\n",
    "    \"Sure, I didn’t clean the kitchen, but you never take the trash out!\",\n",
    "    \"You're asking about taxes, but what about crime rates?\",\n",
    "    \"Let’s not talk about the budget. Have you seen how poorly dressed the mayor is?\",\n",
    "    \"We don’t need to fix the potholes. The real issue is people driving too fast.\",\n",
    "    \"Yes, we need healthcare reform, but look at how much athletes get paid!\",\"The suspect was wearing a red jacket, but have you noticed how high the crime rate is in this city?\",\n",
    "    \"The victim was known to have a lot of enemies, but let’s focus on the time of day it happened.\",\n",
    "    \"I know the evidence points to one person, but what about the history of the neighborhood?\",\n",
    "    \"The room was locked from the inside, but I’ve been thinking about the victim’s past relationships.\",\n",
    "    \"Sure, the fingerprints match, but the security system was malfunctioning all week.\",\n",
    "    \"The car was seen near the scene, but have you ever thought about how this neighborhood is prone to accidents?\",\n",
    "    \"We should examine the victim’s phone records, but there’s something odd about the weather that day.\",\n",
    "    \"There’s a bloodstain on the floor, but don’t forget that the city has been experiencing a surge in burglaries.\",\n",
    "    \"The security footage shows someone wearing a mask, but we should first explore the victim's financial troubles.\",\n",
    "    \"They found a weapon in the room, but what if the victim had a history of mental health issues?\",\n",
    "    \"The suspect had a motive, but have you heard about the strange rumors circulating in the town?\",\n",
    "    \"There’s a trail of footprints leading away from the scene, but let’s not forget the local gang activity.\",\n",
    "    \"The eyewitness testimony is shaky, but we need to look at the way the victim’s family reacts.\",\n",
    "    \"The victim’s friend has an alibi, but the weather that night was absolutely horrific.\",\n",
    "    \"We found a clue in the victim’s office, but let’s focus more on the nearby construction site.\",\n",
    "    \"It’s possible the suspect had access to the victim’s house, but let’s talk about the strange behavior of the neighbors.\",\n",
    "    \"The fingerprints found at the scene don’t match anyone in the database, but what if the culprit is from out of town?\",\n",
    "    \"The weapon used was unusual, but what’s more interesting is the victim's connection to the community center.\",\n",
    "    \"We found a phone at the scene, but I think it’s important to discuss the lack of streetlights in that area.\",\n",
    "    \"Sure, there’s a suspect in mind, but did you know the power grid went down the night of the crime?\",\n",
    "    \"We have a possible lead, but I’m more interested in the fact that the building was undergoing renovations.\",\n",
    "    \"The victim had a history of gambling, but have you considered how the location of the incident might have influenced the event?\",\n",
    "    \"The alibi of the suspect seems solid, but let’s not forget about the mysterious disappearances in the nearby town.\",\n",
    "    \"The car was parked nearby, but I think we should focus on the suspicious construction workers in the area.\",\n",
    "    \"There were multiple witnesses, but it’s worth considering the recent local protests happening around that time.\",\n",
    "    \"The victim’s financial records are strange, but have you considered how the crime rate has been increasing in this area?\",\n",
    "    \"The suspect’s fingerprints are all over the scene, but I’m more curious about the strange noises reported that night.\"\n",
    "]\n",
    "\n",
    "# Healthy counter-arguments (not fallacious)\n",
    "healthy_arguments = [\n",
    "    \"I think we need to increase school funding because of declining test scores.\",\n",
    "    \"While I understand your point, data shows climate change is a growing concern.\",\n",
    "    \"It’s true that taxes are high, but healthcare access is crucial.\",\n",
    "    \"Yes, unemployment is an issue, but we must also address climate change.\",\n",
    "    \"Cleaning the kitchen is important; let’s both take responsibility.\",\n",
    "    \"We need to discuss both crime rates and taxation separately.\",\n",
    "    \"The suspect's motive was clear: financial gain. This directly ties into the victim’s recent large withdrawal.\",\n",
    "    \"The fingerprints found on the weapon match the suspect, which places them at the crime scene.\",\n",
    "    \"Witnesses described hearing a confrontation between the suspect and the victim minutes before the crime.\",\n",
    "    \"Security footage shows the suspect entering the building at the same time the crime was committed.\",\n",
    "    \"The timeline of events matches up perfectly with the suspect’s movements during the night of the crime.\",\n",
    "    \"The victim’s recent behavior suggested they were under a lot of stress, which could explain their actions.\",\n",
    "    \"The location of the crime is consistent with the suspect’s known residence, making it geographically relevant.\",\n",
    "    \"The medical examiner confirmed the cause of death, which directly supports the suspect’s involvement in the crime.\",\n",
    "    \"The victim’s phone records show text messages threatening harm from the suspect just days before the incident.\",\n",
    "    \"The car seen near the scene was registered to the suspect, and forensic evidence links it to the crime.\",\n",
    "    \"There are no signs of forced entry into the victim’s home, indicating the suspect may have had a key.\",\n",
    "    \"The victim had recently filed a police report against the suspect for harassment, which strengthens the case.\",\n",
    "    \"There were no power outages reported in the area, so there’s no reason to believe the security system would have failed.\",\n",
    "    \"The weapon was found in the suspect’s possession, which directly links them to the crime scene.\",\n",
    "    \"The suspect's alibi was verified by multiple independent sources, providing a clear defense against the accusation.\",\n",
    "    \"Forensic evidence confirms that the victim was already dead before the fire started, ruling out certain theories.\",\n",
    "    \"The suspect was in a public place at the time of the crime, with multiple witnesses who can corroborate their alibi.\",\n",
    "    \"The victim’s personal history with the suspect, including recent arguments, is directly relevant to the case.\",\n",
    "    \"The injuries on the victim’s body are consistent with the suspect’s known fighting style, further connecting them.\",\n",
    "    \"A thorough investigation reveals that the suspect was involved in similar crimes in the past, adding credibility to the claim.\",\n",
    "    \"A full toxicology report shows the victim had traces of the suspect’s medication in their system, linking them further.\",\n",
    "    \"The time of death corresponds with the suspect’s arrival at their residence, narrowing down the window of opportunity.\",\n",
    "    \"The suspect’s motive is based on solid financial records showing they stood to gain from the victim’s death.\",\n",
    "    \"Witness testimony, backed by physical evidence, places the suspect at the crime scene shortly before the crime occurred.\",\n",
    "    \"The location of the crime was chosen because the suspect knew the victim often worked late, making it a calculated decision.\"\n",
    "]\n",
    "# Neutral/non-argumentative\n",
    "non_arguments = [\n",
    "    \"I love watching documentaries on space exploration.\",\n",
    "    \"The weather has been nice lately.\",\n",
    "    \"I prefer tea over coffee in the mornings.\",\n",
    "    \"My dog just learned a new trick.\",\n",
    "    \"you are awesome\",\n",
    "    \"but why are we going there\"\n",
    "]\n",
    "\n",
    "red_herring_non_examples = non_arguments + healthy_arguments\n",
    "\n",
    "for example in red_herring_examples:\n",
    "    query = f\"\"\"\n",
    "    INSERT INTO logical_fallacy_data.red_herring (text, label)\n",
    "    VALUES ('{example.replace(\"'\", \"''\")}', true)\n",
    "    \"\"\"\n",
    "    spark.sql(query)\n",
    "\n",
    "\n",
    "\n",
    "for example in red_herring_non_examples:\n",
    "    query = f\"\"\"\n",
    "    INSERT INTO logical_fallacy_data.red_herring (text, label)\n",
    "    VALUES ('{example.replace(\"'\", \"''\")}', false)\n",
    "    \"\"\"\n",
    "    spark.sql(query)"
   ]
  },
  {
   "cell_type": "code",
   "execution_count": 0,
   "metadata": {
    "application/vnd.databricks.v1+cell": {
     "cellMetadata": {
      "byteLimit": 2048000,
      "implicitDf": true,
      "rowLimit": 10000
     },
     "inputWidgets": {},
     "nuid": "06da7c17-3c8a-4c60-9866-a68ec24fd794",
     "showTitle": false,
     "tableResultSettingsMap": {},
     "title": ""
    }
   },
   "outputs": [],
   "source": [
    "%sql\n",
    "CREATE TABLE red_herring_new AS SELECT DISTINCT *\n",
    "FROM logical_fallacy_data.red_herring;\n",
    "\n",
    "DROP TABLE logical_fallacy_data.red_herring;\n",
    "\n",
    "ALTER TABLE red_herring_new\n",
    "RENAME TO logical_fallacy_data.red_herring;\n",
    "\n",
    "GRANT ALL PRIVILEGES ON TABLE logical_fallacy_data.red_herring TO `ryabumoto1655@sdsu.edu`;"
   ]
  },
  {
   "cell_type": "markdown",
   "metadata": {
    "application/vnd.databricks.v1+cell": {
     "cellMetadata": {
      "byteLimit": 2048000,
      "rowLimit": 10000
     },
     "inputWidgets": {},
     "nuid": "d2f368e5-d378-4d75-8d85-6789d4e1cee2",
     "showTitle": false,
     "tableResultSettingsMap": {},
     "title": ""
    }
   },
   "source": [
    "# Populate Straw-man Table"
   ]
  },
  {
   "cell_type": "code",
   "execution_count": 0,
   "metadata": {
    "application/vnd.databricks.v1+cell": {
     "cellMetadata": {
      "byteLimit": 2048000,
      "rowLimit": 10000
     },
     "inputWidgets": {},
     "nuid": "a47f381e-be0d-4702-9f78-fdea7e458870",
     "showTitle": false,
     "tableResultSettingsMap": {},
     "title": ""
    }
   },
   "outputs": [],
   "source": [
    "# Populate Straw-man\n",
    "\n",
    "# Straw Man Fallacy examples\n",
    "straw_man_examples = [\n",
    "    \"this is not an example\"\n",
    "]\n",
    "\n",
    "# Healthy counter-arguments (not fallacious)\n",
    "healthy_arguments = [\n",
    "    \"hey why dont you be more respectful\"\n",
    "]\n",
    "# Neutral/non-argumentative\n",
    "non_arguments = [\n",
    "    \"I love watching documentaries on space exploration.\",\n",
    "    \"The weather has been nice lately.\",\n",
    "    \"I prefer tea over coffee in the mornings.\",\n",
    "    \"My dog just learned a new trick.\",\n",
    "    \"you are awesome\",\n",
    "    \"but why are we going there\"\n",
    "]\n",
    "\n",
    "straw_man_non_examples = non_arguments + healthy_arguments\n",
    "\n",
    "for example in straw_man_examples:\n",
    "    query = f\"\"\"\n",
    "    INSERT INTO logical_fallacy_data.straw_man (text, label)\n",
    "    VALUES ('{example.replace(\"'\", \"''\")}', true)\n",
    "    \"\"\"\n",
    "    spark.sql(query)\n",
    "\n",
    "for example in straw_man_non_examples:\n",
    "    query = f\"\"\"\n",
    "    INSERT INTO logical_fallacy_data.straw_man (text, label)\n",
    "    VALUES ('{example.replace(\"'\", \"''\")}', false)\n",
    "    \"\"\"\n",
    "    spark.sql(query)"
   ]
  },
  {
   "cell_type": "code",
   "execution_count": 0,
   "metadata": {
    "application/vnd.databricks.v1+cell": {
     "cellMetadata": {
      "byteLimit": 2048000,
      "implicitDf": true,
      "rowLimit": 10000
     },
     "inputWidgets": {},
     "nuid": "ca3f9bbe-5c18-405a-94da-896cc27edd3f",
     "showTitle": false,
     "tableResultSettingsMap": {},
     "title": ""
    }
   },
   "outputs": [],
   "source": [
    "%sql\n",
    "DROP TABLE IF EXISTS straw_man_new;\n",
    "CREATE TABLE straw_man_new AS SELECT DISTINCT *\n",
    "FROM logical_fallacy_data.straw_man;\n",
    "\n",
    "DROP TABLE logical_fallacy_data.straw_man;\n",
    "\n",
    "ALTER TABLE straw_man_new\n",
    "RENAME TO logical_fallacy_data.straw_man;\n",
    "\n",
    "GRANT ALL PRIVILEGES ON TABLE logical_fallacy_data.straw_man TO `ryabumoto1655@sdsu.edu`;"
   ]
  },
  {
   "cell_type": "markdown",
   "metadata": {
    "application/vnd.databricks.v1+cell": {
     "cellMetadata": {},
     "inputWidgets": {},
     "nuid": "67621f90-fdef-4824-9a68-d3a852befaa8",
     "showTitle": false,
     "tableResultSettingsMap": {},
     "title": ""
    }
   },
   "source": [
    "# Populate Slippery Slope"
   ]
  },
  {
   "cell_type": "code",
   "execution_count": 0,
   "metadata": {
    "application/vnd.databricks.v1+cell": {
     "cellMetadata": {
      "byteLimit": 2048000,
      "rowLimit": 10000
     },
     "inputWidgets": {},
     "nuid": "d7a78813-313c-4cb0-a2d9-925215888581",
     "showTitle": false,
     "tableResultSettingsMap": {},
     "title": ""
    }
   },
   "outputs": [],
   "source": [
    "# Populate Slippery Slope\n",
    "\n",
    "# Slippery Slope Fallacy examples\n",
    "slippery_slope_examples = [\n",
    "    \"this is not an example\"\n",
    "]\n",
    "\n",
    "# Healthy counter-arguments (not fallacious)\n",
    "healthy_arguments = [\n",
    "    \"hey why dont you be more respectful\"\n",
    "]\n",
    "# Neutral/non-argumentative\n",
    "non_arguments = [\n",
    "    \"I love watching documentaries on space exploration.\",\n",
    "    \"The weather has been nice lately.\",\n",
    "    \"I prefer tea over coffee in the mornings.\",\n",
    "    \"My dog just learned a new trick.\",\n",
    "    \"you are awesome\",\n",
    "    \"but why are we going there\"\n",
    "]\n",
    "\n",
    "slippery_slope_non_examples = non_arguments + healthy_arguments\n",
    "\n",
    "for example in slippery_slope_examples:\n",
    "    query = f\"\"\"\n",
    "    INSERT INTO logical_fallacy_data.slippery_slope (text, label)\n",
    "    VALUES ('{example.replace(\"'\", \"''\")}', true)\n",
    "    \"\"\"\n",
    "    spark.sql(query)\n",
    "\n",
    "for example in slippery_slope_non_examples:\n",
    "    query = f\"\"\"\n",
    "    INSERT INTO logical_fallacy_data.slippery_slope (text, label)\n",
    "    VALUES ('{example.replace(\"'\", \"''\")}', false)\n",
    "    \"\"\"\n",
    "    spark.sql(query)"
   ]
  },
  {
   "cell_type": "code",
   "execution_count": 0,
   "metadata": {
    "application/vnd.databricks.v1+cell": {
     "cellMetadata": {
      "byteLimit": 2048000,
      "implicitDf": true,
      "rowLimit": 10000
     },
     "inputWidgets": {},
     "nuid": "5e92efaa-c65d-4359-a485-4b5c3aa77cfa",
     "showTitle": false,
     "tableResultSettingsMap": {},
     "title": ""
    }
   },
   "outputs": [],
   "source": [
    "%sql\n",
    "DROP TABLE IF EXISTS slippery_slope_new;\n",
    "CREATE TABLE slippery_slope_new AS SELECT DISTINCT *\n",
    "FROM logical_fallacy_data.slippery_slope;\n",
    "\n",
    "DROP TABLE logical_fallacy_data.slippery_slope;\n",
    "\n",
    "ALTER TABLE slippery_slope_new\n",
    "RENAME TO logical_fallacy_data.slippery_slope;\n",
    "\n",
    "GRANT ALL PRIVILEGES ON TABLE logical_fallacy_data.slippery_slope TO `ryabumoto1655@sdsu.edu`;"
   ]
  },
  {
   "cell_type": "markdown",
   "metadata": {
    "application/vnd.databricks.v1+cell": {
     "cellMetadata": {},
     "inputWidgets": {},
     "nuid": "2052548b-019e-43a6-87f7-467ba099203f",
     "showTitle": false,
     "tableResultSettingsMap": {},
     "title": ""
    }
   },
   "source": [
    "# Populate Hasty Generalizations"
   ]
  },
  {
   "cell_type": "code",
   "execution_count": 0,
   "metadata": {
    "application/vnd.databricks.v1+cell": {
     "cellMetadata": {},
     "inputWidgets": {},
     "nuid": "7b88530c-e040-4862-9a47-d96ed8c5c7c5",
     "showTitle": false,
     "tableResultSettingsMap": {},
     "title": ""
    }
   },
   "outputs": [],
   "source": [
    "# Populate Hasty Generalization\n",
    "\n",
    "# Hasty Generalization Fallacy examples\n",
    "hasty_generalization_examples = [\n",
    "    \"this is not an example\"\n",
    "]\n",
    "\n",
    "# Healthy counter-arguments (not fallacious)\n",
    "healthy_arguments = [\n",
    "    \"hey why dont you be more respectful\"\n",
    "]\n",
    "# Neutral/non-argumentative\n",
    "non_arguments = [\n",
    "    \"I love watching documentaries on space exploration.\",\n",
    "    \"The weather has been nice lately.\",\n",
    "    \"I prefer tea over coffee in the mornings.\",\n",
    "    \"My dog just learned a new trick.\",\n",
    "    \"you are awesome\",\n",
    "    \"but why are we going there\"\n",
    "]\n",
    "\n",
    "hasty_generalization_non_examples = non_arguments + healthy_arguments\n",
    "\n",
    "for example in hasty_generalization_examples:\n",
    "    query = f\"\"\"\n",
    "    INSERT INTO logical_fallacy_data.hasty_generalization (text, label)\n",
    "    VALUES ('{example.replace(\"'\", \"''\")}', true)\n",
    "    \"\"\"\n",
    "    spark.sql(query)\n",
    "\n",
    "for example in hasty_generalization_non_examples:\n",
    "    query = f\"\"\"\n",
    "    INSERT INTO logical_fallacy_data.hasty_generalization (text, label)\n",
    "    VALUES ('{example.replace(\"'\", \"''\")}', false)\n",
    "    \"\"\"\n",
    "    spark.sql(query)"
   ]
  },
  {
   "cell_type": "code",
   "execution_count": 0,
   "metadata": {
    "application/vnd.databricks.v1+cell": {
     "cellMetadata": {},
     "inputWidgets": {},
     "nuid": "541a8270-4e9b-4580-bd6c-9f4a2c0a6eec",
     "showTitle": false,
     "tableResultSettingsMap": {},
     "title": ""
    }
   },
   "outputs": [],
   "source": [
    "%sql\n",
    "DROP TABLE IF EXISTS hasty_generalization_new;\n",
    "CREATE TABLE hasty_generalization_new AS SELECT DISTINCT *\n",
    "FROM logical_fallacy_data.hasty_generalization;\n",
    "\n",
    "DROP TABLE logical_fallacy_data.hasty_generalization;\n",
    "\n",
    "ALTER TABLE hasty_generalization_new\n",
    "RENAME TO logical_fallacy_data.hasty_generalization;\n",
    "\n",
    "GRANT ALL PRIVILEGES ON TABLE logical_fallacy_data.hasty_generalization TO `ryabumoto1655@sdsu.edu`;"
   ]
  },
  {
   "cell_type": "markdown",
   "metadata": {
    "application/vnd.databricks.v1+cell": {
     "cellMetadata": {},
     "inputWidgets": {},
     "nuid": "4a5eb54f-7c89-4e7d-86ee-cc78cbc4acee",
     "showTitle": false,
     "tableResultSettingsMap": {},
     "title": ""
    }
   },
   "source": [
    "# Populate Attacking Table"
   ]
  },
  {
   "cell_type": "code",
   "execution_count": 0,
   "metadata": {
    "application/vnd.databricks.v1+cell": {
     "cellMetadata": {
      "byteLimit": 2048000,
      "rowLimit": 10000
     },
     "inputWidgets": {},
     "nuid": "f335f9d2-4847-49fd-b5e5-1b3d2dc3c6ca",
     "showTitle": false,
     "tableResultSettingsMap": {},
     "title": ""
    }
   },
   "outputs": [],
   "source": [
    "from pyspark.sql import SparkSession\n",
    "\n",
    "# Start Spark session\n",
    "spark = SparkSession.builder \\\n",
    "    .appName(\"Insert Hasty Generalization Examples\") \\\n",
    "    .enableHiveSupport() \\\n",
    "    .getOrCreate()\n",
    "\n",
    "# Inlined data from the CSV\n",
    "data = [\n",
    "    (\"Don't take his advice on health; he's overweight.\", 1),\n",
    "    (\"Her financial advice is grounded in years of experience.\", 0),\n",
    "    (\"Evidence should determine truth, not personal attacks.\", 0),\n",
    "    (\"If we legalize this, what’s next? Total anarchy?\", 0),\n",
    "    (\"Why should we take advice from someone who's been divorced three times?\", 1),\n",
    "    (\"Don’t listen to her views on parenting—she doesn’t even have kids.\", 1),\n",
    "    (\"He’s just a conspiracy theorist, so ignore him.\", 1),\n",
    "    (\"You’re only saying that because you're jealous.\", 1),\n",
    "    (\"He failed before, so this idea must fail too.\", 0),\n",
    "    (\"Criticizing the person doesn't disprove the argument.\", 0),\n",
    "    (\"We should evaluate the proposal based on its merits.\", 0),\n",
    "    (\"What would a millennial like you know about hard work?\", 1),\n",
    "    (\"She’s rich, so her opinion on poverty doesn’t matter.\", 1),\n",
    "    (\"You can't trust John's views on politics—he dropped out of college.\", 1),\n",
    "    (\"He opposes the war, but he's just a coward.\", 1),\n",
    "    (\"His political views are supported by well-researched data.\", 0),\n",
    "    (\"Only a fool would disagree with this plan.\", 0),\n",
    "    (\"Since you can’t prove it’s false, it must be true.\", 0),\n",
    "    (\"There's no evidence for ghosts, so they don't exist.\", 0),\n",
    "    (\"It’s clearly wrong because it feels wrong.\", 0),\n",
    "    (\"He’s just saying that because he’s a failed actor.\", 1),\n",
    "    (\"That claim must be true—everyone believes it.\", 0),\n",
    "    (\"We’ve always done it this way, so it must be right.\", 0),\n",
    "    (\"The argument stands regardless of who presents it.\", 0),\n",
    "    (\"Judging by appearance isn’t a valid counterargument.\", 0),\n",
    "    (\"Let's consider the content of the idea, not the person.\", 0),\n",
    "    (\"The government hasn’t denied it, so it must be real.\", 0),\n",
    "    (\"Don't believe her argument about the environment; she flies everywhere.\", 1),\n",
    "    (\"Her argument aligns with peer-reviewed research.\", 0),\n",
    "    (\"Her stance on climate change is based on scientific studies.\", 0),\n",
    "    (\"He made a good point about health risks supported by facts.\", 0),\n",
    "    (\"Ignore his take on economics; he went bankrupt once.\", 1),\n",
    "    (\"Of course he supports taxes—he’s a government employee.\", 1),\n",
    "    (\"The data speaks louder than the person presenting it.\", 0),\n",
    "    (\"The speaker provided evidence to support her position.\", 0),\n",
    "    (\"This happened after that, so it must be the cause.\", 0),\n",
    "    (\"You're only supporting that idea because you're lazy.\", 1),\n",
    "    (\"We should focus on the issue, not the individual.\", 0),\n",
    "    (\"Even if he's flawed, his logic is sound.\", 0),\n",
    "    (\"She only supports that candidate because she’s from his hometown.\", 1),\n",
    "    (\"You shouldn't listen to Nina; they're just a airhead.\", 1),\n",
    "    (\"She only believes that because she's irrational.\", 1),\n",
    "    (\"His argument is invalid because he's just a influencer.\", 1),\n",
    "    (\"Even flawed people can present good ideas.\", 0),\n",
    "    (\"You shouldn't listen to Ella; they're just a gold digger.\", 1),\n",
    "    (\"The point should be considered independently of Susan's personal history.\", 0),\n",
    "    (\"His argument is invalid because he's just a janitor.\", 1),\n",
    "    (\"The point should be considered independently of Dan's personal history.\", 0),\n",
    "    (\"She only believes that because she's young.\", 1),\n",
    "    (\"You shouldn't listen to Susan; they're just a know-it-all.\", 1),\n",
    "    (\"She only believes that because she's insecure.\", 1),\n",
    "    (\"His argument is invalid because he's just a bartender.\", 1),\n",
    "    (\"She only believes that because she's naive.\", 1),\n",
    "    (\"His argument is invalid because he's just a YouTuber.\", 1),\n",
    "    (\"His argument is invalid because he's just a comedian.\", 1),\n",
    "    (\"The point should be considered independently of Jenny's personal history.\", 0),\n",
    "    (\"She only believes that because she's jealous.\", 1),\n",
    "    (\"Facts should not depend on the speaker's identity.\", 0),\n",
    "    (\"She only believes that because she's old-fashioned.\", 1),\n",
    "    (\"Her claim is valid regardless of her occupation.\", 0),\n",
    "    (\"His argument is invalid because he's just a blogger.\", 1),\n",
    "    (\"She only believes that because she's bitter.\", 1),\n",
    "    (\"His argument is invalid because he's just a celebrity.\", 1),\n",
    "    (\"Let's discuss the point, not the person making it.\", 0),\n",
    "    (\"His argument is invalid because he's just a intern.\", 1),\n",
    "    (\"The point should be considered independently of Tom's personal history.\", 0),\n",
    "    (\"Reasoning matters more than reputation.\", 0),\n",
    "    (\"The issue is more important than the messenger.\", 0),\n",
    "    (\"You shouldn't listen to Jenny; they're just a drama queen.\", 1),\n",
    "    (\"The point should be considered independently of Alex's personal history.\", 0),\n",
    "    (\"You shouldn't listen to Tom; they're just a hypocrite.\", 1),\n",
    "    (\"His argument is invalid because he's just a student.\", 1),\n",
    "    (\"The point should be considered independently of Ella's personal history.\", 0),\n",
    "    (\"Arguments must stand on logic, not personal backgrounds.\", 0),\n",
    "    (\"You shouldn't listen to Mark; they're just a loser.\", 1),\n",
    "    (\"The point should be considered independently of Rob's personal history.\", 0),\n",
    "    (\"Evaluate the argument, not the arguer.\", 0),\n",
    "    (\"He supports his point with strong evidence.\", 0),\n",
    "    (\"You shouldn't listen to Rachel; they're just a attention seeker.\", 1),\n",
    "    (\"You shouldn't listen to Dan; they're just a narcissist.\", 1),\n",
    "    (\"She only believes that because she's privileged.\", 1),\n",
    "    (\"You shouldn't listen to Alex; they're just a slacker.\", 1),\n",
    "    (\"The point should be considered independently of Nina's personal history.\", 0),\n",
    "    (\"She only believes that because she's emotional.\", 1),\n",
    "    (\"She only believes that because she's rich.\", 1),\n",
    "]\n",
    "\n",
    "# Create DataFrame\n",
    "df = spark.createDataFrame(data, [\"text\", \"label\"])\n",
    "\n",
    "# Write to Hive table\n",
    "df.write.insertInto(\"logical_fallacy_data.attacking\", overwrite=False)\n"
   ]
  },
  {
   "cell_type": "code",
   "execution_count": 0,
   "metadata": {
    "application/vnd.databricks.v1+cell": {
     "cellMetadata": {},
     "inputWidgets": {},
     "nuid": "0c03de6c-1783-4d48-baec-1e710e589a72",
     "showTitle": false,
     "tableResultSettingsMap": {},
     "title": ""
    }
   },
   "outputs": [],
   "source": [
    "%sql\n",
    "DROP TABLE IF EXISTS attacking_new;\n",
    "CREATE TABLE attacking_new AS SELECT DISTINCT *\n",
    "FROM logical_fallacy_data.attacking;\n",
    "\n",
    "DROP TABLE logical_fallacy_data.attacking;\n",
    "\n",
    "ALTER TABLE attacking_new\n",
    "RENAME TO logical_fallacy_data.attacking;\n",
    "\n",
    "GRANT ALL PRIVILEGES ON TABLE logical_fallacy_data.attacking TO `ryabumoto1655@sdsu.edu`;"
   ]
  },
  {
   "cell_type": "markdown",
   "metadata": {
    "application/vnd.databricks.v1+cell": {
     "cellMetadata": {},
     "inputWidgets": {},
     "nuid": "814099f4-750b-4d05-914c-4509eedd0a27",
     "showTitle": false,
     "tableResultSettingsMap": {},
     "title": ""
    }
   },
   "source": [
    "# Populate Ignorance Table"
   ]
  },
  {
   "cell_type": "code",
   "execution_count": 0,
   "metadata": {
    "application/vnd.databricks.v1+cell": {
     "cellMetadata": {
      "byteLimit": 2048000,
      "rowLimit": 10000
     },
     "inputWidgets": {},
     "nuid": "d98f159e-035e-4975-80b1-d84d1991da2e",
     "showTitle": false,
     "tableResultSettingsMap": {},
     "title": ""
    }
   },
   "outputs": [],
   "source": [
    "from pyspark.sql import SparkSession\n",
    "\n",
    "# Start Spark session\n",
    "spark = SparkSession.builder \\\n",
    "    .appName(\"Insert Appeal to Ignorance Examples\") \\\n",
    "    .enableHiveSupport() \\\n",
    "    .getOrCreate()\n",
    "\n",
    "# Inlined data from the Appeal to Ignorance CSV\n",
    "data = [\n",
    "    (\"That new neighbor looks suspicious, so he probably is.\", 0),\n",
    "    (\"If we don't act now, everything will collapse.\", 0),\n",
    "    (\"No proof of Bigfoot has been found, so he doesn't exist.\", 1),\n",
    "    (\"A theory must be falsifiable to be scientific.\", 0),\n",
    "    (\"I had a dream about it, so it must mean something.\", 0),\n",
    "    (\"You're just saying that because you're angry.\", 0),\n",
    "    (\"Everybody believes it, so it can’t be wrong.\", 0),\n",
    "    (\"This conclusion is based on available data, not speculation.\", 0),\n",
    "    (\"If we ban cars, what's next? Bikes too?\", 0),\n",
    "    (\"Ghost stories are not supported by scientific evidence.\", 0),\n",
    "    (\"Unproven does not mean untrue, just unverified.\", 0),\n",
    "    (\"No one’s ever returned from the afterlife, so it doesn’t exist.\", 1),\n",
    "    (\"Logical reasoning requires evidence, not assumptions.\", 0),\n",
    "    (\"You can't prove aliens aren't visiting us, so they must be.\", 1),\n",
    "    (\"No one has proven that ghosts don't exist, so they must be real.\", 1),\n",
    "    (\"Scientific claims must be supported by empirical data.\", 0),\n",
    "    (\"No one has shown that the new policy is bad, so it must be good.\", 1),\n",
    "    (\"Our conclusion should be based on what we know, not what we don’t.\", 0),\n",
    "    (\"Since there's no evidence against the claim, it has to be true.\", 1),\n",
    "    (\"To confirm the hypothesis, we need experimental validation.\", 0),\n",
    "    (\"The burden of proof lies with the person making the claim.\", 0),\n",
    "    (\"He’s a criminal, so his views on law reform are invalid.\", 0),\n",
    "    (\"There’s no proof that vaccines don’t cause long-term harm, so they must be unsafe.\", 1),\n",
    "    (\"Assertions require verification to be credible.\", 0),\n",
    "    (\"Nobody has shown the new drug doesn’t work, so it must be effective.\", 1),\n",
    "    (\"No one has proven climate change isn't a hoax, so it probably is.\", 1),\n",
    "    (\"There’s no evidence that eating after 8 p.m. is harmful, so it must be fine.\", 1),\n",
    "    (\"We cannot conclude the drug is safe without further testing.\", 0),\n",
    "    (\"We haven’t found life on Mars yet, so there definitely isn’t any.\", 1),\n",
    "    (\"There's no way to disprove fate, so it must be real.\", 1),\n",
    "    (\"You can't prove I cheated, so I must be innocent.\", 1),\n",
    "    (\"Skepticism is warranted without observable proof.\", 0),\n",
    "    (\"He always lies, so this must be a lie too.\", 0),\n",
    "    (\"Until you prove that the suspect is innocent, he must be guilty.\", 1),\n",
    "    (\"She’s rich, so she must not understand poverty.\", 0),\n",
    "    (\"Absence of evidence is not the same as evidence of absence.\", 0),\n",
    "    (\"You haven't shown the machine won't explode, so it’s dangerous.\", 1),\n",
    "    (\"My mom said it’s true, so it must be.\", 0),\n",
    "    (\"Let’s withhold judgment until we have more evidence.\", 0),\n",
    "    (\"Lack of evidence doesn't necessarily prove a claim is false.\", 0),\n",
    "    (\"The new study seems promising, but we need evidence to confirm it.\", 0),\n",
    "    (\"Dreams are sometimes symbolic, but we need evidence to confirm it.\", 0),\n",
    "    (\"Some think the moon landing was fake, but we need evidence to confirm it.\", 0),\n",
    "    (\"No one has shown that the earth being flat isn't true, so it must be.\", 1),\n",
    "    (\"Astrology might have some patterns, but we need evidence to confirm it.\", 0),\n",
    "    (\"No one has shown that miracles happening isn't true, so it must be.\", 1),\n",
    "    (\"No one has shown that time travel existing isn't true, so it must be.\", 1),\n",
    "    (\"No one has shown that astrology isn't true, so it must be.\", 1),\n",
    "    (\"Alien life is a possibility, but we need evidence to confirm it.\", 0),\n",
    "    (\"No one has shown that celebrities being clones isn't true, so it must be.\", 1),\n",
    "    (\"No one has shown that the new diet being unhealthy isn't true, so it must be.\", 1),\n",
    "    (\"No one has shown that the government hiding secrets isn't true, so it must be.\", 1),\n",
    "    (\"You can't prove she's a good leader, so it must be false.\", 1),\n",
    "    (\"You can't prove this medicine helps, so it must be false.\", 1),\n",
    "    (\"You can't prove the test was fair, so it must be false.\", 1),\n",
    "    (\"You can't prove aliens built the pyramids, so it must be false.\", 1),\n",
    "    (\"No one has shown that the moon landing being fake isn't true, so it must be.\", 1),\n",
    "    (\"Pollution statistics vary, but we need evidence to confirm it.\", 0),\n",
    "    (\"No one has shown that video games causing violence isn't true, so it must be.\", 1),\n",
    "    (\"You can't prove exercise improves mental health, so it must be false.\", 1),\n",
    "    (\"Conspiracy theories are widespread, but we need evidence to confirm it.\", 0),\n",
    "    (\"You can't prove the vaccine is safe, so it must be false.\", 1),\n",
    "    (\"No one has shown that reincarnation being real isn't true, so it must be.\", 1),\n",
    "    (\"You can't prove climate change is real, so it must be false.\", 1),\n",
    "    (\"No one has shown that dreams predicting the future isn't true, so it must be.\", 1),\n",
    "    (\"Many claim reincarnation is real, but we need evidence to confirm it.\", 0),\n",
    "    (\"Nobody has shown the new drug doesn’t work, so it must be effective.\", 1),\n",
    "    (\"Time travel is a popular sci-fi theme, but we need evidence to confirm it.\", 0),\n",
    "    (\"New diets should be researched, but we need evidence to confirm it.\", 0),\n",
    "    (\"You can't prove the study is accurate, so it must be false.\", 1),\n",
    "    (\"You can't prove recycling reduces pollution, so it must be false.\", 1),\n",
    "    (\"No one has shown that COVID being man-made isn't true, so it must be.\", 1),\n",
    "    (\"You can't prove they are trustworthy, so it must be false.\", 1),\n",
    "    (\"No one has shown that the cure for cancer being hidden isn't true, so it must be.\", 1),\n",
    "    (\"Claims about vaccines must be tested, but we need evidence to confirm it.\", 0),\n",
    "    (\"You can't prove this law benefits the people, so it must be false.\", 1),\n",
    "    (\"No one has shown that aliens controlling governments isn't true, so it must be.\", 1),\n",
    "    (\"You can't prove he's telling the truth, so it must be false.\", 1),\n",
    "    (\"This medicine has potential, but we need evidence to confirm it.\", 0),\n",
    "    (\"You can't prove this theory is valid, so it must be false.\", 1),\n",
    "]\n",
    "\n",
    "# Create Spark DataFrame\n",
    "df = spark.createDataFrame(data, [\"text\", \"label\"])\n",
    "\n",
    "# Write to Hive table\n",
    "df.write.insertInto(\"logical_fallacy_data.ignorance\", overwrite=False)\n"
   ]
  },
  {
   "cell_type": "code",
   "execution_count": 0,
   "metadata": {
    "application/vnd.databricks.v1+cell": {
     "cellMetadata": {
      "byteLimit": 2048000,
      "implicitDf": true,
      "rowLimit": 10000
     },
     "inputWidgets": {},
     "nuid": "2b81afd0-fb53-497f-86af-595a1b68944c",
     "showTitle": false,
     "tableResultSettingsMap": {},
     "title": ""
    }
   },
   "outputs": [],
   "source": [
    "%sql\n",
    "DROP TABLE IF EXISTS ignorance_new;\n",
    "CREATE TABLE ignorance_new AS SELECT DISTINCT *\n",
    "FROM logical_fallacy_data.ignorance;\n",
    "\n",
    "DROP TABLE logical_fallacy_data.ignorance;\n",
    "\n",
    "ALTER TABLE ignorance_new\n",
    "RENAME TO logical_fallacy_data.ignorance;\n",
    "\n",
    "GRANT ALL PRIVILEGES ON TABLE logical_fallacy_data.ignorance TO `ryabumoto1655@sdsu.edu`;"
   ]
  },
  {
   "cell_type": "markdown",
   "metadata": {
    "application/vnd.databricks.v1+cell": {
     "cellMetadata": {},
     "inputWidgets": {},
     "nuid": "3aee41de-2087-4736-8bfd-0373ff791cb8",
     "showTitle": false,
     "tableResultSettingsMap": {},
     "title": ""
    }
   },
   "source": [
    "# populate hypocrisy example"
   ]
  },
  {
   "cell_type": "code",
   "execution_count": 0,
   "metadata": {
    "application/vnd.databricks.v1+cell": {
     "cellMetadata": {
      "byteLimit": 2048000,
      "rowLimit": 10000
     },
     "inputWidgets": {},
     "nuid": "31c77123-6088-46e4-b8b5-88d1878eb15b",
     "showTitle": false,
     "tableResultSettingsMap": {},
     "title": ""
    }
   },
   "outputs": [],
   "source": [
    "from pyspark.sql import SparkSession\n",
    "\n",
    "# Start Spark session\n",
    "spark = SparkSession.builder \\\n",
    "    .appName(\"Insert Hypocrisy Fallacy Examples\") \\\n",
    "    .enableHiveSupport() \\\n",
    "    .getOrCreate()\n",
    "\n",
    "# Inlined hypocrisy data (text, label)\n",
    "data = [\n",
    "    (\"Eating meat has ethical implications depending on how animals are treated.\", 0),\n",
    "    (\"You say I shouldn't cheat on my taxes, but you did it last year too.\", 1),\n",
    "    (\"He says pollution is bad, yet he drives a gas-guzzling SUV.\", 1),\n",
    "    (\"Aliens must exist because no one has proven they don't.\", 0),\n",
    "    (\"You're telling me not to skip workouts, but you skipped last week.\", 1),\n",
    "    (\"Investing in renewable energy helps reduce pollution.\", 0),\n",
    "    (\"Cheating on taxes is illegal and undermines public services.\", 0),\n",
    "    (\"Lying can damage trust and relationships.\", 0),\n",
    "    (\"Saving money can lead to better financial stability.\", 0),\n",
    "    (\"She lectures us on saving money, but spends a fortune on clothes.\", 1),\n",
    "    (\"Don't tell me to study harder—you never studied and still passed.\", 1),\n",
    "    (\"How can you criticize my spending when you waste money on gadgets?\", 1),\n",
    "    (\"Following rules ensures safety and fairness for all.\", 0),\n",
    "    (\"We’ve always done it this way, so it must be right.\", 0),\n",
    "    (\"She thinks eating meat is unethical, but wears leather boots.\", 1),\n",
    "    (\"You haven’t shown any evidence, so your argument must be false.\", 0),\n",
    "    (\"You can't trust his argument about war; he's a soldier.\", 0),\n",
    "    (\"Studying regularly improves academic performance.\", 0),\n",
    "    (\"If we allow same-sex marriage, what's next? Marrying animals?\", 0),\n",
    "    (\"You say we should follow the rules, but you always break them.\", 1),\n",
    "    (\"Since there's no proof the policy works, it must be flawed.\", 0),\n",
    "    (\"Spending habits should be evaluated based on priorities.\", 0),\n",
    "    (\"You argue that lying is wrong, but you've lied before.\", 1),\n",
    "    (\"Ghosts are real because I've seen one.\", 0),\n",
    "    (\"Skipping workouts might slow down your progress.\", 0),\n",
    "    (\"He claims to support equality, but he never promotes women at work.\", 1),\n",
    "    (\"Don't listen to her opinion on diets, she’s overweight.\", 0),\n",
    "    (\"Promoting equality helps create a fairer workplace.\", 0),\n",
    "    (\"She’s a smoker, so ignore her views on health.\", 0),\n",
    "    (\"He’s just a teenager, what does he know about politics?\", 0),\n",
    "    (\"You tell me not to waste food, but you waste food all the time.\", 1),\n",
    "    (\"A balanced diet is important for a healthy lifestyle.\", 0),\n",
    "    (\"You tell me not to skip class, but you skipped class all the time.\", 1),\n",
    "    (\"Just trust me, it’s common sense.\", 0),\n",
    "    (\"You tell me not to ignore emails, but you ignored emails all the time.\", 1),\n",
    "    (\"Following traffic laws is important for a healthy lifestyle.\", 0),\n",
    "    (\"Good sleep is important for a healthy lifestyle.\", 0),\n",
    "    (\"My grandfather smoked his whole life and lived to 100.\", 0),\n",
    "    (\"How can she talk about climate change when she flies often?\", 0),\n",
    "    (\"You tell me not to watch TV late, but you watch TV late all the time.\", 1),\n",
    "    (\"If we don't act now, the world will end tomorrow.\", 0),\n",
    "    (\"Time management is important for a healthy lifestyle.\", 0),\n",
    "    (\"You tell me not to procrastinate, but you procrastinated all the time.\", 1),\n",
    "    (\"Environmental awareness is important for a healthy lifestyle.\", 0),\n",
    "    (\"Regular exercise is important for a healthy lifestyle.\", 0),\n",
    "    (\"The new policy must be wrong because it's unpopular.\", 0),\n",
    "    (\"You tell me not to miss deadlines, but you miss deadlines all the time.\", 1),\n",
    "    (\"No one's disproved unicorns exist, so they might be real.\", 0),\n",
    "    (\"It's always been done this way, so it's the best method.\", 0),\n",
    "    (\"You tell me not to yell at people, but you yelled at people all the time.\", 1),\n",
    "    (\"Financial planning is important for a healthy lifestyle.\", 0),\n",
    "    (\"Learning continuously is important for a healthy lifestyle.\", 0),\n",
    "    (\"Don't take his argument seriously—he's just a janitor.\", 0),\n",
    "    (\"Community service is important for a healthy lifestyle.\", 0),\n",
    "    (\"Effective communication is important for a healthy lifestyle.\", 0),\n",
    "    (\"Without evidence, your argument is invalid.\", 0),\n",
    "    (\"You tell me not to drive fast, but you drive fast all the time.\", 1),\n",
    "    (\"Hydration is important for a healthy lifestyle.\", 0),\n",
    "    (\"You tell me not to use your phone during meetings, but you used your phone during meetings all the time.\", 1),\n",
    "    (\"He’s rich, so he must be wrong about poverty.\", 0),\n",
    "    (\"You tell me not to use plastic, but you use plastic all the time.\", 1),\n",
    "    (\"You tell me not to drink soda, but you drink soda all the time.\", 1),\n",
    "    (\"Only idiots would disagree with this law.\", 0),\n",
    "    (\"You tell me not to complain about work, but you complain about work all the time.\", 1),\n",
    "    (\"Positive thinking is important for a healthy lifestyle.\", 0),\n",
    "]\n",
    "\n",
    "# Create DataFrame\n",
    "df = spark.createDataFrame(data, [\"text\", \"label\"])\n",
    "\n",
    "# Insert into Hive table\n",
    "df.write.insertInto(\"logical_fallacy_data.hypocrisy\", overwrite=False)\n"
   ]
  },
  {
   "cell_type": "code",
   "execution_count": 0,
   "metadata": {
    "application/vnd.databricks.v1+cell": {
     "cellMetadata": {
      "byteLimit": 2048000,
      "implicitDf": true,
      "rowLimit": 10000
     },
     "inputWidgets": {},
     "nuid": "df813e41-399c-4623-a567-b088ceb72c71",
     "showTitle": false,
     "tableResultSettingsMap": {},
     "title": ""
    }
   },
   "outputs": [],
   "source": [
    "%sql\n",
    "DROP TABLE IF EXISTS hypocrisy_new;\n",
    "CREATE TABLE hypocrisy_new AS SELECT DISTINCT *\n",
    "FROM logical_fallacy_data.hypocrisy;\n",
    "\n",
    "DROP TABLE logical_fallacy_data.hypocrisy;\n",
    "\n",
    "ALTER TABLE hypocrisy_new\n",
    "RENAME TO logical_fallacy_data.hypocrisy;\n",
    "\n",
    "GRANT ALL PRIVILEGES ON TABLE logical_fallacy_data.hypocrisy TO `ryabumoto1655@sdsu.edu`;"
   ]
  },
  {
   "cell_type": "markdown",
   "metadata": {
    "application/vnd.databricks.v1+cell": {
     "cellMetadata": {},
     "inputWidgets": {},
     "nuid": "1456c624-1138-474f-b32b-ce7dede7fed9",
     "showTitle": false,
     "tableResultSettingsMap": {},
     "title": ""
    }
   },
   "source": [
    "# populate stacking the deck examples"
   ]
  },
  {
   "cell_type": "code",
   "execution_count": 0,
   "metadata": {
    "application/vnd.databricks.v1+cell": {
     "cellMetadata": {
      "byteLimit": 2048000,
      "rowLimit": 10000
     },
     "inputWidgets": {},
     "nuid": "b75d25b7-4acc-48a7-991d-3e685a8f451f",
     "showTitle": false,
     "tableResultSettingsMap": {},
     "title": ""
    }
   },
   "outputs": [],
   "source": [
    "from pyspark.sql import SparkSession\n",
    "import csv\n",
    "from io import StringIO\n",
    "\n",
    "# Step 1: Start Spark session\n",
    "spark = SparkSession.builder \\\n",
    "    .appName(\"Insert Stacking the Deck Examples\") \\\n",
    "    .enableHiveSupport() \\\n",
    "    .getOrCreate()\n",
    "\n",
    "# Step 2: Paste your full raw data here\n",
    "raw_data = \"\"\"\n",
    "text,label\n",
    "\"While this method has worked well, other approaches should be weighed too.\",healthy_argument\n",
    "All experts agree on this — the ones who disagree aren’t real experts.,stacking_deck\n",
    "My dog loves to run around in the backyard.,non_argument\n",
    "Let’s weigh both the advantages and the disadvantages before making a decision.,healthy_argument\n",
    "Let’s weigh both the advantages and the disadvantages before making a decision.,healthy_argument\n",
    "The facts all support my argument — just look at these hand-picked studies.,stacking_deck\n",
    "\"Our product is the perfect, just ask our most loyal customers.\",stacking_deck\n",
    "The critics who liked it say it's great — ignore the negative reviews.,stacking_deck\n",
    "All experts agree on this — the ones who disagree aren’t real experts.,stacking_deck\n",
    "\"We should examine evidence from a range of perspectives, both for and against.\",healthy_argument\n",
    "The critics who liked it say it's great — ignore the negative reviews.,stacking_deck\n",
    "My dog loves to run around in the backyard.,non_argument\n",
    "You’ve just heard the good things because the bad stuff isn’t worth discussing.,stacking_deck\n",
    "It’s important to include perspectives that challenge our assumptions.,healthy_argument\n",
    "There’s a great movie playing at the cinema nearby.,non_argument\n",
    "I went shopping last evening and bought a new shirt.,non_argument\n",
    "You’ve just heard the good things because the bad stuff isn’t worth discussing.,stacking_deck\n",
    "Let’s just hear from the successful people; the rest probably have nothing valuable to add.,stacking_deck\n",
    "My dog loves to run around in the backyard.,non_argument\n",
    "Let’s weigh both the advantages and the disadvantages before making a decision.,healthy_argument\n",
    "\"While this method has worked well, other approaches should be weighed too.\",healthy_argument\n",
    "The facts all support my argument — just look at these hand-picked studies.,stacking_deck\n",
    "All experts agree on this — the ones who disagree aren’t real experts.,stacking_deck\n",
    "I went shopping last evening and bought a new shirt.,non_argument\n",
    "Let’s just hear from the successful people; the rest probably have nothing valuable to add.,stacking_deck\n",
    "I went shopping last evening and bought a new shirt.,non_argument\n",
    "\"Everyone agrees that this is the greatest way to go, so we shouldn’t even consider alternatives.\",stacking_deck\n",
    "I enjoy painting as a interest.,non_argument\n",
    "I went shopping last evening and bought a new shirt.,non_argument\n",
    "I'm planning to cook pasta for dinner tonight.,non_argument\n",
    "Let’s just hear from the successful people; the rest probably have nothing valuable to add.,stacking_deck\n",
    "\"Everyone agrees that this is the top way to go, so we shouldn’t even consider alternatives.\",stacking_deck\n",
    "It’s important to include perspectives that challenge our assumptions.,healthy_argument\n",
    "\"We should examine evidence from a range of perspectives, both for and against.\",healthy_argument\n",
    "I'm planning to cook pasta for dinner tonight.,non_argument\n",
    "Let’s just hear from the successful people; the rest probably have nothing valuable to add.,stacking_deck\n",
    "All experts agree on this — the ones who disagree aren’t real experts.,stacking_deck\n",
    "All experts agree on this — the ones who disagree aren’t real experts.,stacking_deck\n",
    "There’s a great movie playing at the cinema nearby.,non_argument\n",
    "The facts all support my argument — just look at these hand-picked studies.,stacking_deck\n",
    "\"While this method has worked well, other approaches should be weighed too.\",healthy_argument\n",
    "Let’s weigh both the advantages and the disadvantages before making a decision.,healthy_argument\n",
    "Let’s just hear from the successful people; the rest probably have nothing valuable to add.,stacking_deck\n",
    "All experts agree on this — the ones who disagree aren’t real experts.,stacking_deck\n",
    "Let’s weigh both the advantages and the disadvantages before making a decision.,healthy_argument\n",
    "My dog loves to run around in the backyard.,non_argument\n",
    "\"Our product is the greatest, just ask our most loyal customers.\",stacking_deck\n",
    "I went shopping last evening and bought a new shirt.,non_argument\n",
    "All experts agree on this — the ones who disagree aren’t real experts.,stacking_deck\n",
    "The facts all support my argument — just look at these hand-picked studies.,stacking_deck\n",
    "I'm planning to cook pasta for dinner tonight.,non_argument\n",
    "It’s important to include perspectives that challenge our assumptions.,healthy_argument\n",
    "Let’s weigh both the advantages and the disadvantages before making a decision.,healthy_argument\n",
    "There’s a great movie playing at the cinema nearby.,non_argument\n",
    "I went shopping last evening and bought a new shirt.,non_argument\n",
    "I enjoy painting as a interest.,non_argument\n",
    "You’ve just heard the good things because the bad stuff isn’t worth discussing.,stacking_deck\n",
    "It’s important to include perspectives that challenge our assumptions.,healthy_argument\n",
    "The traffic was terrible this morning.,non_argument\n",
    "\"While this method has worked well, other approaches should be weighed too.\",healthy_argument\n",
    "It’s important to include perspectives that challenge our assumptions.,healthy_argument\n",
    "\"While this method has worked well, other approaches should be weighed too.\",healthy_argument\n",
    "Let’s weigh both the advantages and the disadvantages before making a decision.,healthy_argument\n",
    "It’s important to include perspectives that challenge our assumptions.,healthy_argument\n",
    "I'm planning to cook pasta for dinner tonight.,non_argument\n",
    "You’ve just heard the good things because the bad stuff isn’t worth discussing.,stacking_deck\n",
    "Let’s weigh both the advantages and the disadvantages before making a decision.,healthy_argument\n",
    "It’s important to include perspectives that challenge our assumptions.,healthy_argument\n",
    "It’s important to include perspectives that challenge our assumptions.,healthy_argument\n",
    "\"We should examine evidence from a range of perspectives, both for and against.\",healthy_argument\n",
    "\"Our product is the perfect, just ask our most loyal customers.\",stacking_deck\n",
    "The traffic was terrible this morning.,non_argument\n",
    "\"Everyone agrees that this is the best way to go, so we shouldn’t even consider alternatives.\",stacking_deck\n",
    "\"While this method has worked well, other approaches should be weighed too.\",healthy_argument\n",
    "It’s important to include perspectives that challenge our assumptions.,healthy_argument\n",
    "\"While this method has worked well, other approaches should be weighed too.\",healthy_argument\n",
    "You’ve just heard the good things because the bad stuff isn’t worth discussing.,stacking_deck\n",
    "There’s a great movie playing at the cinema nearby.,non_argument\n",
    "I went shopping last weekend and bought a new jacket.,non_argument\n",
    "The traffic was terrible this morning.,non_argument\n",
    "The facts all support my argument — just look at these hand-picked studies.,stacking_deck\n",
    "Let’s just hear from the successful people; the rest probably have nothing valuable to add.,stacking_deck\n",
    "\"We should examine evidence from a range of perspectives, both for and against.\",healthy_argument\n",
    "The critics who liked it say it's great — ignore the negative reviews.,stacking_deck\n",
    "You’ve just heard the good things because the bad stuff isn’t worth discussing.,stacking_deck\n",
    "I enjoy painting as a interest.,non_argument\n",
    "I went shopping last evening and bought a new shirt.,non_argument\n",
    "I enjoy painting as a interest.,non_argument\n",
    "There’s a great movie playing at the cinema nearby.,non_argument\n",
    "\"Our product is the perfect, just ask our most loyal customers.\",stacking_deck\n",
    "\"While this method has worked well, other approaches should be weighed too.\",healthy_argument\n",
    "\"While this method has worked well, other approaches should be weighed too.\",healthy_argument\n",
    "I'm planning to cook pasta for dinner tonight.,non_argument\n",
    "It’s important to include perspectives that challenge our assumptions.,healthy_argument\n",
    "\"While this method has worked well, other approaches should be weighed too.\",healthy_argument\n",
    "I went shopping last evening and bought a new shirt.,non_argument\n",
    "I enjoy painting as a interest.,non_argument\n",
    "I enjoy painting as a hobby.,non_argument\n",
    "My dog loves to run around in the backyard.,non_argument\n",
    "I'm planning to cook pasta for dinner tonight.,non_argument\n",
    "The traffic was terrible this morning.,non_argument\n",
    "Let’s weigh both the advantages and the disadvantages before making a decision.,healthy_argument\n",
    "Let’s just hear from the successful people; the rest probably have nothing valuable to add.,stacking_deck\n",
    "There’s a great movie playing at the cinema nearby.,non_argument\n",
    "\"We should examine evidence from a range of perspectives, both for and against.\",healthy_argument\n",
    "There’s a great movie playing at the cinema nearby.,non_argument\n",
    "You’ve just heard the good things because the bad stuff isn’t worth discussing.,stacking_deck\n",
    "Let’s just hear from the successful people; the rest probably have nothing valuable to add.,stacking_deck\n",
    "You’ve just heard the good things because the bad stuff isn’t worth discussing.,stacking_deck\n",
    "\"We should examine evidence from a range of perspectives, both for and against.\",healthy_argument\n",
    "It’s important to include perspectives that challenge our assumptions.,healthy_argument\n",
    "\"Clearly, just fools would think differently.\",stacking_deck\n",
    "\"Clearly, just fools would think differently.\",stacking_deck\n",
    "There’s a great movie playing at the cinema nearby.,non_argument\n",
    "\"While this method has worked well, other approaches should be weighed too.\",healthy_argument\n",
    "\"Our product is the greatest, just ask our most loyal customers.\",stacking_deck\n",
    "The facts all support my argument — just look at these hand-picked studies.,stacking_deck\n",
    "\"Everyone agrees that this is the top way to go, so we shouldn’t even consider alternatives.\",stacking_deck\n",
    "The critics who liked it say it's great — ignore the negative reviews.,stacking_deck\n",
    "The facts all support my argument — just look at these hand-picked studies.,stacking_deck\n",
    "The facts all support my argument — just look at these hand-picked studies.,stacking_deck\n",
    "The facts all support my argument — just look at these hand-picked studies.,stacking_deck\n",
    "All experts agree on this — the ones who disagree aren’t real experts.,stacking_deck\n",
    "\"While this method has worked well, other approaches should be weighed too.\",healthy_argument\n",
    "All experts agree on this — the ones who disagree aren’t real experts.,stacking_deck\n",
    "There’s a great movie playing at the cinema nearby.,non_argument\n",
    "It’s important to include perspectives that challenge our assumptions.,healthy_argument\n",
    "Let’s just hear from the successful people; the rest probably have nothing valuable to add.,stacking_deck\n",
    "\"We should examine evidence from a range of sources, both for and against.\",healthy_argument\n",
    "\"We should examine evidence from a range of perspectives, both for and against.\",healthy_argument\n",
    "\"We should examine evidence from a range of perspectives, both for and against.\",healthy_argument\n",
    "\"Everyone agrees that this is the top way to go, so we shouldn’t even consider alternatives.\",stacking_deck\n",
    "You’ve just heard the good things because the bad stuff isn’t worth discussing.,stacking_deck\n",
    "My dog loves to run around in the backyard.,non_argument\n",
    "\"Clearly, just fools would think differently.\",stacking_deck\n",
    "Let’s just hear from the successful people; the rest probably have nothing valuable to add.,stacking_deck\n",
    "I enjoy painting as a interest.,non_argument\n",
    "I enjoy painting as a interest.,non_argument\n",
    "My dog loves to run around in the backyard.,non_argument\n",
    "\"While this method has worked well, other approaches should be weighed too.\",healthy_argument\n",
    "\"While this method has worked well, other approaches should be weighed too.\",healthy_argument\n",
    "The traffic was terrible this morning.,non_argument\n",
    "\"Everyone agrees that this is the perfect way to go, so we shouldn’t even consider alternatives.\",stacking_deck\n",
    "All experts agree on this — the ones who disagree aren’t real experts.,stacking_deck\n",
    "I went shopping last evening and bought a new shirt.,non_argument\n",
    "There’s a great movie playing at the cinema nearby.,non_argument\n",
    "You’ve just heard the good things because the bad stuff isn’t worth discussing.,stacking_deck\n",
    "I'm planning to cook pasta for dinner tonight.,non_argument\n",
    "I enjoy painting as a interest.,non_argument\n",
    "\"Clearly, just fools would think differently.\",stacking_deck\n",
    "Let’s weigh both the advantages and the disadvantages before making a decision.,healthy_argument\n",
    "You’ve just heard the good things because the bad stuff isn’t worth discussing.,stacking_deck\n",
    "I went shopping last evening and bought a new shirt.,non_argument\n",
    "I enjoy painting as a interest.,non_argument\n",
    "You’ve just heard the good things because the bad stuff isn’t worth discussing.,stacking_deck\n",
    "\"While this method has worked well, other approaches should be considered too.\",healthy_argument\n",
    "\"While this method has worked well, other approaches should be weighed too.\",healthy_argument\n",
    "I went shopping last evening and bought a new shirt.,non_argument\n",
    "You’ve just heard the good things because the bad stuff isn’t worth discussing.,stacking_deck\n",
    "\"Our product is the perfect, just ask our most loyal customers.\",stacking_deck\n",
    "The critics who liked it say it's great — ignore the negative reviews.,stacking_deck\n",
    "\"Everyone agrees that this is the greatest way to go, so we shouldn’t even consider alternatives.\",stacking_deck\n",
    "All experts agree on this — the ones who disagree aren’t real experts.,stacking_deck\n",
    "The traffic was terrible this morning.,non_argument\n",
    "The facts all support my argument — just look at these hand-picked studies.,stacking_deck\n",
    "\"While this method has worked well, other approaches should be weighed too.\",healthy_argument\n",
    "\"We should examine evidence from a range of perspectives, both for and against.\",healthy_argument\n",
    "I'm planning to cook pasta for dinner tonight.,non_argument\n",
    "I'm planning to cook pasta for dinner tonight.,non_argument\n",
    "All experts agree on this — the ones who disagree aren’t real experts.,stacking_deck\n",
    "I went shopping last evening and bought a new shirt.,non_argument\n",
    "You’ve just heard the good things because the bad stuff isn’t worth discussing.,stacking_deck\n",
    "There’s a great movie playing at the cinema nearby.,non_argument\n",
    "\"Everyone agrees that this is the greatest way to go, so we shouldn’t even consider alternatives.\",stacking_deck\n",
    "There’s a great movie playing at the cinema nearby.,non_argument\n",
    "Let’s just hear from the successful people; the rest probably have nothing valuable to add.,stacking_deck\n",
    "The facts all support my argument — just look at these hand-picked studies.,stacking_deck\n",
    "It’s important to include perspectives that challenge our assumptions.,healthy_argument\n",
    "My dog loves to run around in the backyard.,non_argument\n",
    "\"Clearly, just fools would think differently.\",stacking_deck\n",
    "The critics who liked it say it's great — ignore the negative reviews.,stacking_deck\n",
    "My dog loves to run around in the backyard.,non_argument\n",
    "You’ve just heard the good things because the bad stuff isn’t worth discussing.,stacking_deck\n",
    "\"We should examine evidence from a range of perspectives, both for and against.\",healthy_argument\n",
    "Let’s just hear from the successful people; the rest probably have nothing valuable to add.,stacking_deck\n",
    "My dog loves to run around in the backyard.,non_argument\n",
    "The critics who liked it say it's great — ignore the negative reviews.,stacking_deck\n",
    "Let’s weigh both the advantages and the disadvantages before making a decision.,healthy_argument\n",
    "It’s important to include perspectives that challenge our assumptions.,healthy_argument\n",
    "\"Everyone agrees that this is the top way to go, so we shouldn’t even consider alternatives.\",stacking_deck\n",
    "I went shopping last evening and bought a new shirt.,non_argument\n",
    "Let’s just hear from the successful people; the rest probably have nothing valuable to add.,stacking_deck\n",
    "\"Our product is the perfect, just ask our most loyal customers.\",stacking_deck\n",
    "\"Our product is the top, just ask our most loyal customers.\",stacking_deck\n",
    "The critics who liked it say it's great — ignore the negative reviews.,stacking_deck\n",
    "\"Clearly, just fools would think differently.\",stacking_deck\n",
    "\"Our product is the top, just ask our most loyal customers.\",stacking_deck\n",
    "I'm planning to cook pasta for dinner tonight.,non_argument\n",
    "My dog loves to run around in the backyard.,non_argument\n",
    "\"Clearly, just fools would think differently.\",stacking_deck\n",
    "\"While this method has worked well, other approaches should be weighed too.\",healthy_argument\n",
    "\"Everyone agrees that this is the greatest way to go, so we shouldn’t even consider alternatives.\",stacking_deck\n",
    "There’s a great movie playing at the cinema nearby.,non_argument\n",
    "Let’s weigh both the advantages and the disadvantages before making a decision.,healthy_argument\n",
    "All experts agree on this — the ones who disagree aren’t real experts.,stacking_deck\n",
    "I'm planning to cook pasta for dinner tonight.,non_argument\n",
    "Let’s just hear from the successful people; the rest probably have nothing valuable to add.,stacking_deck\n",
    "The traffic was terrible this morning.,non_argument\n",
    "I went shopping last evening and bought a new shirt.,non_argument\n",
    "The traffic was terrible this morning.,non_argument\n",
    "I enjoy painting as a interest.,non_argument\n",
    "The critics who liked it say it's great — ignore the negative reviews.,stacking_deck\n",
    "There’s a great movie playing at the cinema nearby.,non_argument\n",
    "The facts all support my argument — just look at these hand-picked studies.,stacking_deck\n",
    "\"We should examine evidence from a range of perspectives, both for and against.\",healthy_argument\n",
    "My dog loves to run around in the backyard.,non_argument\n",
    "Let’s weigh both the advantages and the disadvantages before making a decision.,healthy_argument\n",
    "The critics who liked it say it's great — ignore the negative reviews.,stacking_deck\n",
    "Let’s weigh both the advantages and the disadvantages before making a decision.,healthy_argument\n",
    "\"Everyone agrees that this is the greatest way to go, so we shouldn’t even consider alternatives.\",stacking_deck\n",
    "\"Our product is the perfect, just ask our most loyal customers.\",stacking_deck\n",
    "Let’s weigh both the advantages and the disadvantages before making a decision.,healthy_argument\n",
    "There’s a great movie playing at the cinema nearby.,non_argument\n",
    "It’s important to include perspectives that challenge our assumptions.,healthy_argument\n",
    "It’s important to include perspectives that challenge our assumptions.,healthy_argument\n",
    "Let’s weigh both the advantages and the disadvantages before making a decision.,healthy_argument\n",
    "Let’s weigh both the advantages and the disadvantages before making a decision.,healthy_argument\n",
    "My dog loves to run around in the backyard.,non_argument\n",
    "I enjoy painting as a interest.,non_argument\n",
    "\"Clearly, just fools would think differently.\",stacking_deck\n",
    "\"We should examine evidence from a range of perspectives, both for and against.\",healthy_argument\n",
    "\"We should examine evidence from a range of perspectives, both for and against.\",healthy_argument\n",
    "The traffic was terrible this morning.,non_argument\n",
    "There’s a great movie playing at the cinema nearby.,non_argument\n",
    "\"We should examine evidence from a range of perspectives, both for and against.\",healthy_argument\n",
    "You’ve just heard the good things because the bad stuff isn’t worth discussing.,stacking_deck\n",
    "Let’s just hear from the successful people; the rest probably have nothing valuable to add.,stacking_deck\n",
    "\"We should examine evidence from a range of perspectives, both for and against.\",healthy_argument\n",
    "\"While this method has worked well, other approaches should be weighed too.\",healthy_argument\n",
    "The critics who liked it say it's great — ignore the negative reviews.,stacking_deck\n",
    "The traffic was terrible this morning.,non_argument\n",
    "I went shopping last evening and bought a new shirt.,non_argument\n",
    "There’s a great movie playing at the cinema nearby.,non_argument\n",
    "\"Our product is the top, just ask our most loyal customers.\",stacking_deck\n",
    "It’s important to include perspectives that challenge our assumptions.,healthy_argument\n",
    "\"While this method has worked well, other approaches should be weighed too.\",healthy_argument\n",
    "There’s a great movie playing at the cinema nearby.,non_argument\n",
    "\"While this method has worked well, other approaches should be weighed too.\",healthy_argument\n",
    "\"We should examine evidence from a range of perspectives, both for and against.\",healthy_argument\n",
    "I went shopping last evening and bought a new shirt.,non_argument\n",
    "You’ve just heard the good things because the bad stuff isn’t worth discussing.,stacking_deck\n",
    "\"We should examine evidence from a range of perspectives, both for and against.\",healthy_argument\n",
    "\"While this method has worked well, other approaches should be weighed too.\",healthy_argument\n",
    "\"While this method has worked well, other approaches should be weighed too.\",healthy_argument\n",
    "It’s important to include perspectives that challenge our assumptions.,healthy_argument\n",
    "Let’s weigh both the advantages and the disadvantages before making a decision.,healthy_argument\n",
    "There’s a great movie playing at the cinema nearby.,non_argument\n",
    "\"While this method has worked well, other approaches should be weighed too.\",healthy_argument\n",
    "\"We should examine evidence from a range of perspectives, both for and against.\",healthy_argument\n",
    "The critics who liked it say it's great — ignore the negative reviews.,stacking_deck\n",
    "The facts all support my argument — just look at these hand-picked studies.,stacking_deck\n",
    "Let’s weigh both the advantages and the disadvantages before making a decision.,healthy_argument\n",
    "It’s important to include perspectives that challenge our assumptions.,healthy_argument\n",
    "My dog loves to run around in the backyard.,non_argument\n",
    "I went shopping last evening and bought a new shirt.,non_argument\n",
    "I enjoy painting as a interest.,non_argument\n",
    "\"While this method has worked well, other approaches should be weighed too.\",healthy_argument\n",
    "\"While this method has worked well, other approaches should be weighed too.\",healthy_argument\n",
    "The facts all support my argument — just look at these hand-picked studies.,stacking_deck\n",
    "All experts agree on this — the ones who disagree aren’t real experts.,stacking_deck\n",
    "Let’s just hear from the successful people; the rest probably have nothing valuable to add.,stacking_deck\n",
    "All experts agree on this — the ones who disagree aren’t real experts.,stacking_deck\n",
    "Let’s weigh both the advantages and the disadvantages before making a decision.,healthy_argument\n",
    "The facts all support my argument — just look at these hand-picked studies.,stacking_deck\n",
    "All experts agree on this — the ones who disagree aren’t real experts.,stacking_deck\n",
    "The facts all support my argument — just look at these hand-picked studies.,stacking_deck\n",
    "I enjoy painting as a interest.,non_argument\n",
    "\"Clearly, just fools would think differently.\",stacking_deck\n",
    "It’s important to include perspectives that challenge our assumptions.,healthy_argument\n",
    "\"We should examine evidence from a range of perspectives, both for and against.\",healthy_argument\n",
    "The critics who liked it say it's great — ignore the negative reviews.,stacking_deck\n",
    "The traffic was terrible this morning.,non_argument\n",
    "My dog loves to run around in the backyard.,non_argument\n",
    "The facts all support my argument — just look at these hand-picked studies.,stacking_deck\n",
    "The facts all support my argument — just look at these hand-picked studies.,stacking_deck\n",
    "\"Our product is the greatest, just ask our most loyal customers.\",stacking_deck\n",
    "You’ve just heard the good things because the bad stuff isn’t worth discussing.,stacking_deck\n",
    "\"We should examine evidence from a range of perspectives, both for and against.\",healthy_argument\n",
    "\"Our product is the perfect, just ask our most loyal customers.\",stacking_deck\n",
    "It’s important to include perspectives that challenge our assumptions.,healthy_argument\n",
    "The facts all support my argument — just look at these hand-picked studies.,stacking_deck\n",
    "All experts agree on this — the ones who disagree aren’t real experts.,stacking_deck\n",
    "\"We should examine evidence from a range of perspectives, both for and against.\",healthy_argument\n",
    "The facts all support my argument — just look at these hand-picked studies.,stacking_deck\n",
    "I'm planning to cook pasta for dinner tonight.,non_argument\n",
    "I'm planning to cook pasta for dinner tonight.,non_argument\n",
    "\"While this method has worked well, other approaches should be weighed too.\",healthy_argument\n",
    "\"Everyone agrees that this is the perfect way to go, so we shouldn’t even consider alternatives.\",stacking_deck\n",
    "I went shopping last evening and bought a new shirt.,non_argument\n",
    "I enjoy painting as a interest.,non_argument\n",
    "I went shopping last evening and bought a new shirt.,non_argument\n",
    "\"While this method has worked well, other approaches should be weighed too.\",healthy_argument\n",
    "\"Everyone agrees that this is the top way to go, so we shouldn’t even consider alternatives.\",stacking_deck\n",
    "My dog loves to run around in the backyard.,non_argument\n",
    "I went shopping last evening and bought a new shirt.,non_argument\n",
    "You’ve just heard the good things because the bad stuff isn’t worth discussing.,stacking_deck\n",
    "I enjoy painting as a interest.,non_argument\n",
    "It’s important to include perspectives that challenge our assumptions.,healthy_argument\n",
    "The facts all support my argument — just look at these hand-picked studies.,stacking_deck\n",
    "All experts agree on this — the ones who disagree aren’t real experts.,stacking_deck\n",
    "I went shopping last evening and bought a new shirt.,non_argument\n",
    "All experts agree on this — the ones who disagree aren’t real experts.,stacking_deck\n",
    "My dog loves to run around in the backyard.,non_argument\n",
    "I'm planning to cook pasta for dinner tonight.,non_argument\n",
    "\"While this method has worked well, other approaches should be weighed too.\",healthy_argument\n",
    "The facts all support my argument — just look at these hand-picked studies.,stacking_deck\n",
    "My dog loves to run around in the backyard.,non_argument\n",
    "\"While this method has worked well, other approaches should be weighed too.\",healthy_argument\n",
    "Let’s weigh both the advantages and the disadvantages before making a decision.,healthy_argument\n",
    "The facts all support my argument — just look at these hand-picked studies.,stacking_deck\n",
    "\"While this method has worked well, other approaches should be weighed too.\",healthy_argument\n",
    "All experts agree on this — the ones who disagree aren’t real experts.,stacking_deck\n",
    "All experts agree on this — the ones who disagree aren’t real experts.,stacking_deck\n",
    "My dog loves to run around in the backyard.,non_argument\n",
    "There’s a great movie playing at the cinema nearby.,non_argument\n",
    "The traffic was terrible this morning.,non_argument\n",
    "\"We should examine evidence from a range of perspectives, both for and against.\",healthy_argument\n",
    "Let’s weigh both the advantages and the disadvantages before making a decision.,healthy_argument\n",
    "\"We should examine evidence from a range of perspectives, both for and against.\",healthy_argument\n",
    "I'm planning to cook pasta for dinner tonight.,non_argument\n",
    "I'm planning to cook pasta for dinner tonight.,non_argument\n",
    "It’s important to include perspectives that challenge our assumptions.,healthy_argument\n",
    "Let’s weigh both the advantages and the disadvantages before making a decision.,healthy_argument\n",
    "\"While this method has worked well, other approaches should be weighed too.\",healthy_argument\n",
    "Let’s weigh both the advantages and the disadvantages before making a decision.,healthy_argument\n",
    "There’s a great movie playing at the cinema nearby.,non_argument\n",
    "The facts all support my argument — just look at these hand-picked studies.,stacking_deck\n",
    "It’s important to include perspectives that challenge our assumptions.,healthy_argument\n",
    "It’s important to include perspectives that challenge our assumptions.,healthy_argument\n",
    "Let’s consider both the advantages and the disadvantages before making a decision.,healthy_argument\n",
    "I'm planning to cook pasta for dinner tonight.,non_argument\n",
    "Let’s weigh both the advantages and the disadvantages before making a decision.,healthy_argument\n",
    "\"While this method has worked well, other approaches should be weighed too.\",healthy_argument\n",
    "\"We should examine evidence from a range of perspectives, both for and against.\",healthy_argument\n",
    "All experts agree on this — the ones who disagree aren’t real experts.,stacking_deck\n",
    "All experts agree on this — the ones who disagree aren’t real experts.,stacking_deck\n",
    "You’ve just heard the good things because the bad stuff isn’t worth discussing.,stacking_deck\n",
    "I'm planning to cook pasta for dinner tonight.,non_argument\n",
    "My dog loves to run around in the backyard.,non_argument\n",
    "The traffic was terrible this morning.,non_argument\n",
    "I went shopping last evening and bought a new shirt.,non_argument\n",
    "All experts agree on this — the ones who disagree aren’t real experts.,stacking_deck\n",
    "\"Everyone agrees that this is the greatest way to go, so we shouldn’t even consider alternatives.\",stacking_deck\n",
    "I enjoy painting as a interest.,non_argument\n",
    "You’ve just heard the good things because the bad stuff isn’t worth discussing.,stacking_deck\n",
    "The traffic was terrible this morning.,non_argument\n",
    "\"We should examine evidence from a range of perspectives, both for and against.\",healthy_argument\n",
    "It’s important to include perspectives that challenge our assumptions.,healthy_argument\n",
    "\"Clearly, just fools would think differently.\",stacking_deck\n",
    "The facts all support my argument — just look at these hand-picked studies.,stacking_deck\n",
    "I'm planning to cook pasta for dinner tonight.,non_argument\n",
    "\"Clearly, just fools would think differently.\",stacking_deck\n",
    "\"Everyone agrees that this is the top way to go, so we shouldn’t even consider alternatives.\",stacking_deck\n",
    "The facts all support my argument — just look at these hand-picked studies.,stacking_deck\n",
    "\"We should examine evidence from a range of perspectives, both for and against.\",healthy_argument\n",
    "It’s important to include perspectives that challenge our assumptions.,healthy_argument\n",
    "Let’s just hear from the successful people; the rest probably have nothing valuable to add.,stacking_deck\n",
    "\"Our product is the top, just ask our most loyal customers.\",stacking_deck\n",
    "I enjoy painting as a interest.,non_argument\n",
    "\"Clearly, just fools would think differently.\",stacking_deck\n",
    "I'm planning to cook pasta for dinner tonight.,non_argument\n",
    "\"Clearly, just fools would think differently.\",stacking_deck\n",
    "The facts all support my argument — just look at these hand-picked studies.,stacking_deck\n",
    "There’s a great movie playing at the cinema nearby.,non_argument\n",
    "All experts agree on this — the ones who disagree aren’t real experts.,stacking_deck\n",
    "\"While this method has worked well, other approaches should be weighed too.\",healthy_argument\n",
    "The critics who liked it say it's great — ignore the negative reviews.,stacking_deck\n",
    "\"Everyone agrees that this is the greatest way to go, so we shouldn’t even consider alternatives.\",stacking_deck\n",
    "I went shopping last evening and bought a new shirt.,non_argument\n",
    "\"Clearly, just fools would think differently.\",stacking_deck\n",
    "It’s important to include perspectives that challenge our assumptions.,healthy_argument\n",
    "You’ve just heard the good things because the bad stuff isn’t worth discussing.,stacking_deck\n",
    "\"Everyone agrees that this is the perfect way to go, so we shouldn’t even consider alternatives.\",stacking_deck\n",
    "You’ve just heard the good things because the bad stuff isn’t worth discussing.,stacking_deck\n",
    "I'm planning to cook pasta for dinner tonight.,non_argument\n",
    "I went shopping last evening and bought a new shirt.,non_argument\n",
    "\"Clearly, only fools would think differently.\",stacking_deck\n",
    "It’s important to include perspectives that challenge our assumptions.,healthy_argument\n",
    "There’s a great movie playing at the cinema nearby.,non_argument\n",
    "\"Everyone agrees that this is the greatest way to go, so we shouldn’t even consider alternatives.\",stacking_deck\n",
    "The critics who liked it say it's great — ignore the negative reviews.,stacking_deck\n",
    "Let’s weigh both the advantages and the disadvantages before making a decision.,healthy_argument\n",
    "\"While this method has worked well, other approaches should be weighed too.\",healthy_argument\n",
    "\"Everyone agrees that this is the greatest way to go, so we shouldn’t even consider alternatives.\",stacking_deck\n",
    "\"Our product is the top, just ask our most loyal customers.\",stacking_deck\n",
    "I went shopping last evening and bought a new shirt.,non_argument\n",
    "\"While this method has worked well, other approaches should be weighed too.\",healthy_argument\n",
    "My dog loves to run around in the backyard.,non_argument\n",
    "The critics who liked it say it's great — ignore the negative reviews.,stacking_deck\n",
    "The facts all support my argument — just look at these hand-picked studies.,stacking_deck\n",
    "\"Clearly, just fools would think differently.\",stacking_deck\n",
    "\"While this method has worked well, other approaches should be weighed too.\",healthy_argument\n",
    "You’ve just heard the good things because the bad stuff isn’t worth discussing.,stacking_deck\n",
    "\"Our product is the perfect, just ask our most loyal customers.\",stacking_deck\n",
    "\"While this method has worked well, other approaches should be weighed too.\",healthy_argument\n",
    "\"We should examine evidence from a range of perspectives, both for and against.\",healthy_argument\n",
    "Let’s weigh both the advantages and the disadvantages before making a decision.,healthy_argument\n",
    "\"Clearly, just fools would think differently.\",stacking_deck\n",
    "\"We should examine evidence from a range of perspectives, both for and against.\",healthy_argument\n",
    "\"Our product is the best, just ask our most loyal customers.\",stacking_deck\n",
    "You’ve only heard the good things because the bad stuff isn’t worth discussing.,stacking_deck\n",
    "\"Everyone agrees that this is the top way to go, so we shouldn’t even consider alternatives.\",stacking_deck\n",
    "The traffic was terrible this morning.,non_argument\n",
    "There’s a great movie playing at the cinema nearby.,non_argument\n",
    "The facts all support my argument — just look at these hand-picked studies.,stacking_deck\n",
    "Let’s just hear from the successful people; the rest probably have nothing valuable to add.,stacking_deck\n",
    "The critics who liked it say it's great — ignore the negative reviews.,stacking_deck\n",
    "My dog loves to run around in the backyard.,non_argument\n",
    "\"\"\"\n",
    "\n",
    "# Step 3: Convert label strings to binary (1 = stacking_deck, 0 = others)\n",
    "label_map = {\n",
    "    \"stacking_deck\": 1,\n",
    "    \"healthy_argument\": 0,\n",
    "    \"non_argument\": 0\n",
    "}\n",
    "\n",
    "# Step 4: Parse the string into a list of (text, label) tuples\n",
    "reader = csv.reader(StringIO(raw_data.strip()))\n",
    "data = [(text.strip(), label_map[label.strip()]) for text, label in reader if label.strip() in label_map]\n",
    "\n",
    "# Step 5: Create a Spark DataFrame\n",
    "df = spark.createDataFrame(data, [\"text\", \"label\"])\n",
    "\n",
    "# Step 6: Insert into Hive table\n",
    "df.write.insertInto(\"logical_fallacy_data.stacking_deck\", overwrite=False)\n"
   ]
  },
  {
   "cell_type": "code",
   "execution_count": 0,
   "metadata": {
    "application/vnd.databricks.v1+cell": {
     "cellMetadata": {
      "byteLimit": 2048000,
      "implicitDf": true,
      "rowLimit": 10000
     },
     "inputWidgets": {},
     "nuid": "e3347e75-f4f3-46cd-9d32-7c7126d467d4",
     "showTitle": false,
     "tableResultSettingsMap": {},
     "title": ""
    }
   },
   "outputs": [],
   "source": [
    "%sql\n",
    "DROP TABLE IF EXISTS stacking_new;\n",
    "CREATE TABLE stacking_new AS SELECT DISTINCT *\n",
    "FROM logical_fallacy_data.stacking_deck;\n",
    "\n",
    "DROP TABLE logical_fallacy_data.stacking_deck;\n",
    "\n",
    "ALTER TABLE stacking_new\n",
    "RENAME TO logical_fallacy_data.stacking_deck;\n",
    "\n",
    "GRANT ALL PRIVILEGES ON TABLE logical_fallacy_data.stacking_deck TO `ryabumoto1655@sdsu.edu`;"
   ]
  },
  {
   "cell_type": "markdown",
   "metadata": {
    "application/vnd.databricks.v1+cell": {
     "cellMetadata": {},
     "inputWidgets": {},
     "nuid": "354be1b1-1675-4e75-931a-e79ce160eb7f",
     "showTitle": false,
     "tableResultSettingsMap": {},
     "title": ""
    }
   },
   "source": [
    "# populate ad-hominem data"
   ]
  },
  {
   "cell_type": "code",
   "execution_count": 0,
   "metadata": {
    "application/vnd.databricks.v1+cell": {
     "cellMetadata": {
      "byteLimit": 2048000,
      "rowLimit": 10000
     },
     "inputWidgets": {},
     "nuid": "d44db3f1-898b-4c7c-adf6-24fb49d069e3",
     "showTitle": false,
     "tableResultSettingsMap": {},
     "title": ""
    }
   },
   "outputs": [],
   "source": [
    "from pyspark.sql import SparkSession\n",
    "\n",
    "# Start Spark session\n",
    "spark = SparkSession.builder \\\n",
    "    .appName(\"Insert Synthetic Stacking the Deck Data\") \\\n",
    "    .enableHiveSupport() \\\n",
    "    .getOrCreate()\n",
    "\n",
    "# Synthetic stacking_deck fallacy examples\n",
    "synthetic_examples = [\n",
    "    \"You don't know anything about politics, you're just a student.\", \n",
    "    \"That's a ridiculous statement, you're too young to understand.\",\n",
    "    \"Your argument is invalid because you're just a dumb person.\",\n",
    "    \"You don’t have the expertise to be making these kinds of claims.\",\n",
    "    \"What do you know about this? You’re just a student with no real experience.\",\n",
    "    \"You're too young to understand the complexities of this topic.\",\n",
    "    \"You're just an idealist; you don’t know how the world really works.\",\n",
    "    \"You can’t possibly know anything about this; you’ve never worked a real job.\",\n",
    "    \"You're just upset because things aren't going your way.\",\n",
    "    \"You wouldn’t understand; you’re just a part-time worker.\",\n",
    "    \"You're too inexperienced to have a valid opinion on this.\",\n",
    "    \"You’re just repeating what everyone else says; you don’t think for yourself.\",\n",
    "    \"How can you argue with me? You’ve never been in this field.\",\n",
    "    \"What do you know about this? You’ve never even had a leadership role.\",\n",
    "    \"You can't possibly understand, you're just a teenager with no experience.\",\n",
    "    \"You're too emotional to be taken seriously on this matter.\",\n",
    "    \"You can’t contribute to this conversation; you're just a beginner.\",\n",
    "    \"You don’t have enough life experience to understand what's really going on.\",\n",
    "    \"You're just a fan of that person; your opinion is biased.\",\n",
    "    \"You can’t speak with authority because you're not qualified.\",\n",
    "    \"How could you possibly know? You haven’t even been through a real struggle.\",\n",
    "    \"You're too inexperienced to be discussing this seriously.\",\n",
    "    \"You don’t know what you’re talking about; you’ve never been in my shoes.\",\n",
    "    \"You’re just a blogger; your opinion doesn’t count.\",\n",
    "    \"You're too young to see the big picture.\",\n",
    "    \"You’re just a dreamer, not a realist.\",\n",
    "    \"What do you know? You’ve never held a real job.\",\n",
    "    \"You're just saying that because you haven’t lived long enough.\"\n",
    "]\n",
    "\n",
    "# Synthetic healthy arguments (non-fallacious)\n",
    "synthetic_healthy_arguments = [\n",
    "    \"I understand your point, but I think the data shows something different.\",\n",
    "    \"I see where you're coming from, but let's look at the facts before we make a decision.\",\n",
    "    \"While I respect your perspective, I think we need to consider a wider range of views on this.\",\n",
    "    \"That's an interesting point, but I believe the evidence suggests otherwise.\",\n",
    "    \"I disagree with your conclusion, but let's explore the underlying reasoning together.\",\n",
    "    \"I hear you, but from my experience, I believe the situation is more complex.\",\n",
    "    \"I understand your concerns, and I think it’s important we weigh the pros and cons carefully.\",\n",
    "    \"I appreciate your opinion, but I think it's crucial to also examine the long-term effects.\",\n",
    "    \"You raise a valid point, but we also need to account for other factors in this situation.\",\n",
    "    \"I think it’s important to keep an open mind, as there may be other perspectives to consider.\",\n",
    "    \"I see what you’re saying, but have you thought about the potential downsides?\",\n",
    "    \"I get that you’re frustrated, but let’s try to focus on finding a solution.\",\n",
    "    \"I agree that this is an issue, but I think we should look at all sides before we act.\",\n",
    "    \"I see your concerns, but I think we need to gather more information first.\",\n",
    "    \"That’s a good point, but I think we need to look at this in a broader context.\",\n",
    "    \"I understand your perspective, but the data we have doesn't fully support that view.\",\n",
    "    \"You're right to be concerned, but I think there are other strategies we should also consider.\",\n",
    "    \"I respect your opinion, but let’s take a closer look at the facts before making any conclusions.\",\n",
    "    \"I agree that this could be an issue, but I think we need to address it in a more systematic way.\",\n",
    "    \"I understand your viewpoint, but I think we need to evaluate the situation more thoroughly.\",\n",
    "    \"I appreciate your viewpoint, but let’s also consider the other possible outcomes.\",\n",
    "    \"I see your point, but we need to factor in other variables that might affect the outcome.\",\n",
    "    \"I understand your frustration, but let’s focus on finding a constructive solution.\",\n",
    "    \"I see where you're coming from, but I think it's important to keep the bigger picture in mind.\",\n",
    "    \"I understand the concern, but I think we need to approach this more methodically.\",\n",
    "    \"I respect your perspective, but I think we need to question our assumptions here.\",\n",
    "    \"That’s a valid argument, but we also need to look at the data from multiple angles.\",\n",
    "    \"I agree with your sentiment, but I think it’s essential to test this hypothesis before making a decision.\",\n",
    "    \"I see your point, but I think we should gather more evidence before drawing conclusions.\",\n",
    "    \"I agree that there is an issue, but I think we need to identify the root cause first.\",\n",
    "    \"You make a good argument, but I think we should consider how this will affect the long term.\",\n",
    "    \"I agree with you on some aspects, but we should also factor in other variables.\",\n",
    "    \"I see the merit in your argument, but I believe the situation is more nuanced than that.\",\n",
    "    \"I understand the concern, but perhaps a different approach might be more effective.\",\n",
    "    \"I see your point, but I think it's important to focus on solutions rather than dwelling on the problem.\",\n",
    "    \"I respect your opinion, but I think it’s important to consider the broader implications.\",\n",
    "    \"I agree that change is necessary, but we need to look at sustainable options.\",\n",
    "    \"That’s a good idea, but I think it’s important to balance that with other priorities.\",\n",
    "    \"I understand your frustration, but I think we need to take a step back and look at the bigger picture.\",\n",
    "    \"I appreciate your thoughts, but I believe we need to focus on actionable steps.\",\n",
    "    \"You bring up a valid concern, but let’s also think about the long-term benefits of this decision.\",\n",
    "    \"I see the logic behind your argument, but let’s take a more balanced approach.\",\n",
    "    \"I agree with you on several points, but I think it’s important to consider other options as well.\",\n",
    "    \"That’s a compelling argument, but I think we should explore other alternatives.\",\n",
    "    \"I understand your point of view, but I believe we need to look at the evidence before moving forward.\",\n",
    "    \"I agree that something needs to change, but I think we need a plan that addresses all the underlying issues.\",\n",
    "    \"You have a strong argument, but I think we should be cautious about the potential risks.\",\n",
    "    \"I agree that this is a pressing issue, but let's also consider the potential consequences of this action.\",\n",
    "    \"I understand your reasoning, but I think it’s important to consider the different perspectives involved.\",\n",
    "    \"I respect your opinion, but I believe we need to dig deeper into the facts before making a final decision.\"\n",
    "]\n",
    "\n",
    "# Synthetic neutral/non-arguments\n",
    "synthetic_non_arguments = [\n",
    "    \"The weather today is very nice, with clear skies and a mild breeze.\",\n",
    "    \"I enjoy listening to music in my free time.\",\n",
    "    \"There’s a coffee shop near my house that I go to every weekend.\",\n",
    "    \"I recently started reading a new book that seems really interesting.\",\n",
    "    \"My favorite season of the year is autumn because of the colors of the leaves.\",\n",
    "    \"I think I'll have pasta for dinner tonight.\",\n",
    "    \"I like to go for walks in the park to relax.\",\n",
    "    \"I noticed that the flowers in my garden are blooming beautifully this spring.\",\n",
    "    \"I love watching documentaries on wildlife.\",\n",
    "    \"My friend just adopted a dog, and it’s so cute.\"\n",
    "]\n",
    "\n",
    "# Combine healthy and non-argument into non-examples (label = 0)\n",
    "synthetic_non_examples = synthetic_non_arguments + synthetic_healthy_arguments\n",
    "\n",
    "# Construct final labeled dataset\n",
    "examples = [(text, 1) for text in synthetic_examples] + [(text, 0) for text in synthetic_non_examples]\n",
    "\n",
    "# Create Spark DataFrame\n",
    "df = spark.createDataFrame(examples, [\"text\", \"label\"])\n",
    "\n",
    "# Insert into the Hive table\n",
    "df.write.insertInto(\"logical_fallacy_data.ad_hominem\")\n"
   ]
  },
  {
   "cell_type": "code",
   "execution_count": 0,
   "metadata": {
    "application/vnd.databricks.v1+cell": {
     "cellMetadata": {
      "byteLimit": 2048000,
      "implicitDf": true,
      "rowLimit": 10000
     },
     "inputWidgets": {},
     "nuid": "97ce06d3-4e67-4543-ac2b-b98b3193f4cd",
     "showTitle": false,
     "tableResultSettingsMap": {},
     "title": ""
    }
   },
   "outputs": [],
   "source": [
    "%sql\n",
    "DROP TABLE IF EXISTS ad_hominem_new;\n",
    "CREATE TABLE ad_hominem_new AS SELECT DISTINCT *\n",
    "FROM logical_fallacy_data.ad_hominem;\n",
    "\n",
    "DROP TABLE logical_fallacy_data.ad_hominem;\n",
    "\n",
    "ALTER TABLE ad_hominem_new\n",
    "RENAME TO logical_fallacy_data.ad_hominem;\n",
    "\n",
    "GRANT ALL PRIVILEGES ON TABLE logical_fallacy_data.ad_hominem TO `ryabumoto1655@sdsu.edu`;"
   ]
  }
 ],
 "metadata": {
  "application/vnd.databricks.v1+notebook": {
   "computePreferences": null,
   "dashboards": [],
   "environmentMetadata": {
    "base_environment": "",
    "environment_version": "2"
   },
   "inputWidgetPreferences": null,
   "language": "python",
   "notebookMetadata": {
    "mostRecentlyExecutedCommandWithImplicitDF": {
     "commandId": 8027030044030828,
     "dataframes": [
      "_sqldf"
     ]
    },
    "pythonIndentUnit": 4
   },
   "notebookName": "Logical-Fallacy-Data-Management",
   "widgets": {}
  },
  "language_info": {
   "name": "python"
  }
 },
 "nbformat": 4,
 "nbformat_minor": 0
}